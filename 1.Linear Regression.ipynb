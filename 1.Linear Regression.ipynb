{
 "cells": [
  {
   "cell_type": "markdown",
   "id": "15911485-2097-4be1-bdf7-e97472789dd8",
   "metadata": {},
   "source": [
    "## OBJECTIVE: To Predict the sales price of a product based on investment in three different media channels                   "
   ]
  },
  {
   "cell_type": "markdown",
   "id": "a369b7f0-b2b2-4598-b637-5bbbca01bfa0",
   "metadata": {},
   "source": [
    "## Step 1. import Dependencies"
   ]
  },
  {
   "cell_type": "code",
   "execution_count": 29,
   "id": "b73104ac-5de1-453b-af16-b892a578364c",
   "metadata": {},
   "outputs": [],
   "source": [
    "import pandas as pd\n",
    "import matplotlib.pyplot as plt\n",
    "import numpy as np\n",
    "import seaborn as sns \n",
    "from sklearn.preprocessing import StandardScaler\n",
    "from scipy.stats import skew\n",
    "\n",
    "import warnings\n",
    "warnings.filterwarnings(\"ignore\")\n",
    "%matplotlib inline\n"
   ]
  },
  {
   "cell_type": "markdown",
   "id": "1cb80bb4-6c36-4196-83bf-fd2672bf850e",
   "metadata": {},
   "source": [
    "## Step 2. Reading the data"
   ]
  },
  {
   "cell_type": "code",
   "execution_count": 34,
   "id": "b4448479-00c5-4f25-8cdf-3774c6818752",
   "metadata": {},
   "outputs": [
    {
     "name": "stdout",
     "output_type": "stream",
     "text": [
      "(200, 4)\n"
     ]
    },
    {
     "data": {
      "text/html": [
       "<div>\n",
       "<style scoped>\n",
       "    .dataframe tbody tr th:only-of-type {\n",
       "        vertical-align: middle;\n",
       "    }\n",
       "\n",
       "    .dataframe tbody tr th {\n",
       "        vertical-align: top;\n",
       "    }\n",
       "\n",
       "    .dataframe thead th {\n",
       "        text-align: right;\n",
       "    }\n",
       "</style>\n",
       "<table border=\"1\" class=\"dataframe\">\n",
       "  <thead>\n",
       "    <tr style=\"text-align: right;\">\n",
       "      <th></th>\n",
       "      <th>TV</th>\n",
       "      <th>radio</th>\n",
       "      <th>newspaper</th>\n",
       "      <th>sales</th>\n",
       "    </tr>\n",
       "  </thead>\n",
       "  <tbody>\n",
       "    <tr>\n",
       "      <th>1</th>\n",
       "      <td>230.1</td>\n",
       "      <td>37.8</td>\n",
       "      <td>69.2</td>\n",
       "      <td>22.1</td>\n",
       "    </tr>\n",
       "    <tr>\n",
       "      <th>2</th>\n",
       "      <td>44.5</td>\n",
       "      <td>39.3</td>\n",
       "      <td>45.1</td>\n",
       "      <td>10.4</td>\n",
       "    </tr>\n",
       "    <tr>\n",
       "      <th>3</th>\n",
       "      <td>17.2</td>\n",
       "      <td>45.9</td>\n",
       "      <td>69.3</td>\n",
       "      <td>9.3</td>\n",
       "    </tr>\n",
       "    <tr>\n",
       "      <th>4</th>\n",
       "      <td>151.5</td>\n",
       "      <td>41.3</td>\n",
       "      <td>58.5</td>\n",
       "      <td>18.5</td>\n",
       "    </tr>\n",
       "    <tr>\n",
       "      <th>5</th>\n",
       "      <td>180.8</td>\n",
       "      <td>10.8</td>\n",
       "      <td>58.4</td>\n",
       "      <td>12.9</td>\n",
       "    </tr>\n",
       "  </tbody>\n",
       "</table>\n",
       "</div>"
      ],
      "text/plain": [
       "      TV  radio  newspaper  sales\n",
       "1  230.1   37.8       69.2   22.1\n",
       "2   44.5   39.3       45.1   10.4\n",
       "3   17.2   45.9       69.3    9.3\n",
       "4  151.5   41.3       58.5   18.5\n",
       "5  180.8   10.8       58.4   12.9"
      ]
     },
     "execution_count": 34,
     "metadata": {},
     "output_type": "execute_result"
    }
   ],
   "source": [
    "# reading the csv pandassv\n",
    "df = pd.read_csv(\"Advertising.csv\" , index_col=0)\n",
    "print(df.shape)\n",
    "df.head()"
   ]
  },
  {
   "cell_type": "raw",
   "id": "8bd474c2-2da8-4a9f-b99b-b8780268290b",
   "metadata": {},
   "source": [
    "- "
   ]
  },
  {
   "cell_type": "code",
   "execution_count": 35,
   "id": "1eb4fee0-6a04-4502-886d-983a587dcbff",
   "metadata": {},
   "outputs": [
    {
     "name": "stdout",
     "output_type": "stream",
     "text": [
      "File not found\n"
     ]
    }
   ],
   "source": [
    "try:\n",
    "    pd.read_csv(\"mdhd8bfnd\")\n",
    "except:\n",
    "    print(\"File not found\")"
   ]
  },
  {
   "cell_type": "markdown",
   "id": "f8a67979-0e10-4f23-a32f-3acd2b6c70eb",
   "metadata": {},
   "source": [
    "## Step 3.Data Analysis"
   ]
  },
  {
   "cell_type": "code",
   "execution_count": 39,
   "id": "9433042b-0aa5-4a2b-abc0-79c148266dbc",
   "metadata": {},
   "outputs": [
    {
     "name": "stdout",
     "output_type": "stream",
     "text": [
      "TV           float64\n",
      "radio        float64\n",
      "newspaper    float64\n",
      "sales        float64\n",
      "dtype: object\n"
     ]
    }
   ],
   "source": [
    "print(df.dtypes)"
   ]
  },
  {
   "cell_type": "code",
   "execution_count": 41,
   "id": "130dec2e-0379-4e1a-b5f0-adaaa2ad9557",
   "metadata": {},
   "outputs": [
    {
     "name": "stdout",
     "output_type": "stream",
     "text": [
      "(200, 4)\n"
     ]
    }
   ],
   "source": [
    "print(df.shape)"
   ]
  },
  {
   "cell_type": "code",
   "execution_count": 43,
   "id": "f45a8709-2385-4385-9436-9287672d2204",
   "metadata": {},
   "outputs": [
    {
     "data": {
      "text/html": [
       "<div>\n",
       "<style scoped>\n",
       "    .dataframe tbody tr th:only-of-type {\n",
       "        vertical-align: middle;\n",
       "    }\n",
       "\n",
       "    .dataframe tbody tr th {\n",
       "        vertical-align: top;\n",
       "    }\n",
       "\n",
       "    .dataframe thead th {\n",
       "        text-align: right;\n",
       "    }\n",
       "</style>\n",
       "<table border=\"1\" class=\"dataframe\">\n",
       "  <thead>\n",
       "    <tr style=\"text-align: right;\">\n",
       "      <th></th>\n",
       "      <th>TV</th>\n",
       "      <th>radio</th>\n",
       "      <th>newspaper</th>\n",
       "      <th>sales</th>\n",
       "    </tr>\n",
       "  </thead>\n",
       "  <tbody>\n",
       "    <tr>\n",
       "      <th>count</th>\n",
       "      <td>200.000000</td>\n",
       "      <td>200.000000</td>\n",
       "      <td>200.000000</td>\n",
       "      <td>200.000000</td>\n",
       "    </tr>\n",
       "    <tr>\n",
       "      <th>mean</th>\n",
       "      <td>147.042500</td>\n",
       "      <td>23.264000</td>\n",
       "      <td>30.554000</td>\n",
       "      <td>14.022500</td>\n",
       "    </tr>\n",
       "    <tr>\n",
       "      <th>std</th>\n",
       "      <td>85.854236</td>\n",
       "      <td>14.846809</td>\n",
       "      <td>21.778621</td>\n",
       "      <td>5.217457</td>\n",
       "    </tr>\n",
       "    <tr>\n",
       "      <th>min</th>\n",
       "      <td>0.700000</td>\n",
       "      <td>0.000000</td>\n",
       "      <td>0.300000</td>\n",
       "      <td>1.600000</td>\n",
       "    </tr>\n",
       "    <tr>\n",
       "      <th>25%</th>\n",
       "      <td>74.375000</td>\n",
       "      <td>9.975000</td>\n",
       "      <td>12.750000</td>\n",
       "      <td>10.375000</td>\n",
       "    </tr>\n",
       "    <tr>\n",
       "      <th>50%</th>\n",
       "      <td>149.750000</td>\n",
       "      <td>22.900000</td>\n",
       "      <td>25.750000</td>\n",
       "      <td>12.900000</td>\n",
       "    </tr>\n",
       "    <tr>\n",
       "      <th>75%</th>\n",
       "      <td>218.825000</td>\n",
       "      <td>36.525000</td>\n",
       "      <td>45.100000</td>\n",
       "      <td>17.400000</td>\n",
       "    </tr>\n",
       "    <tr>\n",
       "      <th>max</th>\n",
       "      <td>296.400000</td>\n",
       "      <td>49.600000</td>\n",
       "      <td>114.000000</td>\n",
       "      <td>27.000000</td>\n",
       "    </tr>\n",
       "  </tbody>\n",
       "</table>\n",
       "</div>"
      ],
      "text/plain": [
       "               TV       radio   newspaper       sales\n",
       "count  200.000000  200.000000  200.000000  200.000000\n",
       "mean   147.042500   23.264000   30.554000   14.022500\n",
       "std     85.854236   14.846809   21.778621    5.217457\n",
       "min      0.700000    0.000000    0.300000    1.600000\n",
       "25%     74.375000    9.975000   12.750000   10.375000\n",
       "50%    149.750000   22.900000   25.750000   12.900000\n",
       "75%    218.825000   36.525000   45.100000   17.400000\n",
       "max    296.400000   49.600000  114.000000   27.000000"
      ]
     },
     "execution_count": 43,
     "metadata": {},
     "output_type": "execute_result"
    }
   ],
   "source": [
    "df.describe()"
   ]
  },
  {
   "cell_type": "markdown",
   "id": "d37be998-5a13-4d49-b80b-1ddb454ce6b6",
   "metadata": {},
   "source": [
    "- In this data we can see that we have spend the more amount on tv media channel\n",
    "- less amount on radio media chennel"
   ]
  },
  {
   "cell_type": "markdown",
   "id": "db6ddf2d-1fea-415a-8279-ec0a106f2dbf",
   "metadata": {},
   "source": [
    "## Step 4. Check Assumption"
   ]
  },
  {
   "cell_type": "markdown",
   "id": "a3e1a797-3965-4f4b-9052-177ca39c66a8",
   "metadata": {},
   "source": [
    "- Linear Regression is A Parametric algorithm means before using Linear Regression we have to check few assumptions if those assumptions are true then only we can use Linear Regrdession , other wise use other algo."
   ]
  },
  {
   "cell_type": "markdown",
   "id": "d271bb78-bc63-4c1d-8b03-1ebe3b1290b4",
   "metadata": {},
   "source": [
    "### Assumption 1. There should- Be No Outliers in The Data"
   ]
  },
  {
   "cell_type": "code",
   "execution_count": 49,
   "id": "2bd53768-dccd-4488-89cc-ac23f15620b7",
   "metadata": {},
   "outputs": [
    {
     "data": {
      "text/plain": [
       "<Axes: >"
      ]
     },
     "execution_count": 49,
     "metadata": {},
     "output_type": "execute_result"
    },
    {
     "data": {
      "image/png": "[encoded data removed]",
      "text/plain": [
       "<Figure size 640x480 with 1 Axes>"
      ]
     },
     "metadata": {},
     "output_type": "display_data"
    }
   ],
   "source": [
    "df.boxplot() # we box plot only for continuous numeric data"
   ]
  },
  {
   "cell_type": "markdown",
   "id": "4c99d70d-d09a-4be9-9a17-8097dd2d4883",
   "metadata": {},
   "source": [
    "* In data frame we have all the variables in continuous numeric value so we create box plot on all columns by this plot we can see there is no outliers in tv ,radio and newspaper contains two outliers."
   ]
  },
  {
   "cell_type": "code",
   "execution_count": 51,
   "id": "97d0d76f-a1da-4802-8f83-1b15fdc83fc8",
   "metadata": {},
   "outputs": [
    {
     "data": {
      "text/plain": [
       "<Axes: >"
      ]
     },
     "execution_count": 51,
     "metadata": {},
     "output_type": "execute_result"
    },
    {
     "data": {
      "image/png": "[encoded data removed]",
      "text/plain": [
       "<Figure size 640x480 with 1 Axes>"
      ]
     },
     "metadata": {},
     "output_type": "display_data"
    }
   ],
   "source": [
    "df.boxplot(column=\"newspaper\")"
   ]
  },
  {
   "cell_type": "markdown",
   "id": "e051c1a3-de4c-4fb6-90de-6da7f94a66ea",
   "metadata": {},
   "source": [
    "<b> Note :If outlier present than we can treat using below approach \n",
    "   1. Elimination \n",
    "       A. Directly dropping the values\n",
    "   2. Treating the outliers\n",
    "       A. Using Capping and- Floaring approach\n",
    "       B. Replace Using Measure of Central of Tendencies\n",
    "       C. Replace custom values\n",
    "   3. Of cluster is present then leave them as it is \n",
    "   4. Check with Client if this is acceptable range or not"
   ]
  },
  {
   "cell_type": "markdown",
   "id": "b27c768f-72d2-4c0c-90ed-538438cad389",
   "metadata": {},
   "source": [
    "## Check missing values"
   ]
  },
  {
   "cell_type": "code",
   "execution_count": 54,
   "id": "69aa1312-25fb-4514-80ea-fa38f85d316d",
   "metadata": {},
   "outputs": [],
   "source": [
    "def check_missing_value(data):\n",
    "    \"\"\"\n",
    "    Objective :Check missing values count and percentage in all columns \n",
    "\n",
    "    data: input data frame \n",
    "    retun: Missing value data frame\n",
    "    \"\"\"\n",
    "    total = data.isnull().sum().sort_values(ascending = True)\n",
    "    percentage = (data.isnull().sum()/data.isnull().count()  *100).sort_values(ascending =False)\n",
    "    missing_data= pd.concat([total,percent],axis =1 , keys=[\"Total\",\"Percent\"] )\n",
    "    return missing_value"
   ]
  },
  {
   "cell_type": "code",
   "execution_count": 55,
   "id": "e4618066-f5a8-4e41-8391-003a8b695859",
   "metadata": {},
   "outputs": [
    {
     "ename": "NameError",
     "evalue": "name 'percent' is not defined",
     "output_type": "error",
     "traceback": [
      "\u001b[1;31m---------------------------------------------------------------------------\u001b[0m",
      "\u001b[1;31mNameError\u001b[0m                                 Traceback (most recent call last)",
      "Cell \u001b[1;32mIn[55], line 1\u001b[0m\n\u001b[1;32m----> 1\u001b[0m miss \u001b[38;5;241m=\u001b[39m check_missing_value(df)\n\u001b[0;32m      2\u001b[0m miss\n",
      "Cell \u001b[1;32mIn[54], line 10\u001b[0m, in \u001b[0;36mcheck_missing_value\u001b[1;34m(data)\u001b[0m\n\u001b[0;32m      8\u001b[0m total \u001b[38;5;241m=\u001b[39m data\u001b[38;5;241m.\u001b[39misnull()\u001b[38;5;241m.\u001b[39msum()\u001b[38;5;241m.\u001b[39msort_values(ascending \u001b[38;5;241m=\u001b[39m \u001b[38;5;28;01mTrue\u001b[39;00m)\n\u001b[0;32m      9\u001b[0m percentage \u001b[38;5;241m=\u001b[39m (data\u001b[38;5;241m.\u001b[39misnull()\u001b[38;5;241m.\u001b[39msum()\u001b[38;5;241m/\u001b[39mdata\u001b[38;5;241m.\u001b[39misnull()\u001b[38;5;241m.\u001b[39mcount()  \u001b[38;5;241m*\u001b[39m\u001b[38;5;241m100\u001b[39m)\u001b[38;5;241m.\u001b[39msort_values(ascending \u001b[38;5;241m=\u001b[39m\u001b[38;5;28;01mFalse\u001b[39;00m)\n\u001b[1;32m---> 10\u001b[0m missing_data\u001b[38;5;241m=\u001b[39m pd\u001b[38;5;241m.\u001b[39mconcat([total,percent],axis \u001b[38;5;241m=\u001b[39m\u001b[38;5;241m1\u001b[39m , keys\u001b[38;5;241m=\u001b[39m[\u001b[38;5;124m\"\u001b[39m\u001b[38;5;124mTotal\u001b[39m\u001b[38;5;124m\"\u001b[39m,\u001b[38;5;124m\"\u001b[39m\u001b[38;5;124mPercent\u001b[39m\u001b[38;5;124m\"\u001b[39m] )\n\u001b[0;32m     11\u001b[0m \u001b[38;5;28;01mreturn\u001b[39;00m missing_value\n",
      "\u001b[1;31mNameError\u001b[0m: name 'percent' is not defined"
     ]
    }
   ],
   "source": [
    "miss = check_missing_value(df)\n",
    "miss"
   ]
  },
  {
   "cell_type": "markdown",
   "id": "26ccc33e-4294-4195-8f8a-adeeda2a177f",
   "metadata": {},
   "source": [
    "Note:\n",
    "\n",
    "    1. If Missing value contain more than 50% of the data then you can drop the entire column\n",
    "    2. If less than 50%then we can treat those missing values by using Measures of Center tendency\n",
    "    3. If column is categorical then you can use Mode to replace missing values\n",
    "    4. If column is continuous Numerical variable then you can use Mean if that variable is not skewed\n",
    "     5. if column is continuous numerical variable with skewed then we cam use Median which is not affected by the outlier\n",
    "    6. You can predict the missing values by using other features (not recommended)\n",
    "    7. You can direcly ask to client\n",
    "    8. Common sence"
   ]
  },
  {
   "cell_type": "markdown",
   "id": "2c7f590c-1933-45b8-9dce-f1ad879aa3fe",
   "metadata": {},
   "source": [
    "### Assumption 2: Assumption of Linearity : Every Independendt variable should have Linear Relationship with the dependent variables "
   ]
  },
  {
   "cell_type": "code",
   "execution_count": 63,
   "id": "aa4bbb3b-c293-4e6a-9315-183f7528b6f4",
   "metadata": {},
   "outputs": [
    {
     "data": {
      "image/png": "[encoded data removed]",
      "text/plain": [
       "<Figure size 750x250 with 3 Axes>"
      ]
     },
     "metadata": {},
     "output_type": "display_data"
    }
   ],
   "source": [
    "sns.pairplot(df,\n",
    "            x_vars=[\"TV\",\"radio\",\"newspaper\"],\n",
    "            y_vars=\"sales\",\n",
    "            kind=\"reg\")\n",
    "\n",
    "plt.show()"
   ]
  },
  {
   "cell_type": "markdown",
   "id": "e4be0513-a5a2-4f5d-9221-8a2cb762a62c",
   "metadata": {},
   "source": [
    "### NOTE : if the assumption of Linearity is not met we can drop that variable\n",
    "\n",
    "- Strong Positive Linear Relationship in TV and- Sales\n",
    "- Moderately Strong Positive Linear Relationship in Radio and Sales\n",
    "- No Relation in Newspaper Sales also the C.I is also high"
   ]
  },
  {
   "cell_type": "code",
   "execution_count": 64,
   "id": "7905f227-c53a-4232-99e7-d433821a03fc",
   "metadata": {},
   "outputs": [
    {
     "data": {
      "text/plain": [
       "Index(['TV', 'radio', 'newspaper', 'sales'], dtype='object')"
      ]
     },
     "execution_count": 64,
     "metadata": {},
     "output_type": "execute_result"
    }
   ],
   "source": [
    "#print all column names(we can observe if any space is presendt in columns name)\n",
    "df.columns"
   ]
  },
  {
   "cell_type": "code",
   "execution_count": 65,
   "id": "73397536-9f92-4ca5-bd87-203b8a2f81ef",
   "metadata": {},
   "outputs": [],
   "source": [
    "feature_cols =[\"TV\",\"radio\",\"newspaper\"]\n",
    "X= df[feature_cols]\n",
    "y = df.sales"
   ]
  },
  {
   "cell_type": "code",
   "execution_count": 66,
   "id": "61c9b9bd-20a2-47e0-afef-929ed81b2727",
   "metadata": {},
   "outputs": [
    {
     "data": {
      "text/html": [
       "<div>\n",
       "<style scoped>\n",
       "    .dataframe tbody tr th:only-of-type {\n",
       "        vertical-align: middle;\n",
       "    }\n",
       "\n",
       "    .dataframe tbody tr th {\n",
       "        vertical-align: top;\n",
       "    }\n",
       "\n",
       "    .dataframe thead th {\n",
       "        text-align: right;\n",
       "    }\n",
       "</style>\n",
       "<table border=\"1\" class=\"dataframe\">\n",
       "  <thead>\n",
       "    <tr style=\"text-align: right;\">\n",
       "      <th></th>\n",
       "      <th>TV</th>\n",
       "      <th>radio</th>\n",
       "      <th>newspaper</th>\n",
       "    </tr>\n",
       "  </thead>\n",
       "  <tbody>\n",
       "    <tr>\n",
       "      <th>1</th>\n",
       "      <td>230.1</td>\n",
       "      <td>37.8</td>\n",
       "      <td>69.2</td>\n",
       "    </tr>\n",
       "    <tr>\n",
       "      <th>2</th>\n",
       "      <td>44.5</td>\n",
       "      <td>39.3</td>\n",
       "      <td>45.1</td>\n",
       "    </tr>\n",
       "    <tr>\n",
       "      <th>3</th>\n",
       "      <td>17.2</td>\n",
       "      <td>45.9</td>\n",
       "      <td>69.3</td>\n",
       "    </tr>\n",
       "    <tr>\n",
       "      <th>4</th>\n",
       "      <td>151.5</td>\n",
       "      <td>41.3</td>\n",
       "      <td>58.5</td>\n",
       "    </tr>\n",
       "    <tr>\n",
       "      <th>5</th>\n",
       "      <td>180.8</td>\n",
       "      <td>10.8</td>\n",
       "      <td>58.4</td>\n",
       "    </tr>\n",
       "  </tbody>\n",
       "</table>\n",
       "</div>"
      ],
      "text/plain": [
       "      TV  radio  newspaper\n",
       "1  230.1   37.8       69.2\n",
       "2   44.5   39.3       45.1\n",
       "3   17.2   45.9       69.3\n",
       "4  151.5   41.3       58.5\n",
       "5  180.8   10.8       58.4"
      ]
     },
     "execution_count": 66,
     "metadata": {},
     "output_type": "execute_result"
    }
   ],
   "source": [
    "X.head()"
   ]
  },
  {
   "cell_type": "code",
   "execution_count": 67,
   "id": "a79d3b5a-263e-4b20-9614-f54e08876c84",
   "metadata": {},
   "outputs": [
    {
     "data": {
      "text/plain": [
       "1      22.1\n",
       "2      10.4\n",
       "3       9.3\n",
       "4      18.5\n",
       "5      12.9\n",
       "       ... \n",
       "196     7.6\n",
       "197     9.7\n",
       "198    12.8\n",
       "199    25.5\n",
       "200    13.4\n",
       "Name: sales, Length: 200, dtype: float64"
      ]
     },
     "execution_count": 67,
     "metadata": {},
     "output_type": "execute_result"
    }
   ],
   "source": [
    "y"
   ]
  },
  {
   "cell_type": "markdown",
   "id": "f5d1c08b-0642-490e-87f4-5bdf787c0326",
   "metadata": {},
   "source": [
    "## Assumption 3: Assumption  of Normality : The dependet Variable should- follow an approximate normal distribution"
   ]
  },
  {
   "cell_type": "code",
   "execution_count": 69,
   "id": "5ce36e57-d85e-4d7e-9feb-d27229b360a6",
   "metadata": {},
   "outputs": [
    {
     "data": {
      "image/png": "[encoded data removed]",
      "text/plain": [
       "<Figure size 640x480 with 1 Axes>"
      ]
     },
     "metadata": {},
     "output_type": "display_data"
    }
   ],
   "source": [
    "sns.distplot(y, hist= True)\n",
    "plt.show()"
   ]
  },
  {
   "cell_type": "raw",
   "id": "c7ab6c48-615f-438f-9856-050aaf2d4c31",
   "metadata": {},
   "source": [
    "SALE  variable is meeting the assumption and- we can see the approximate normal D-istribution"
   ]
  },
  {
   "cell_type": "markdown",
   "id": "cbb60437-a9fd-4818-b31b-9bb35a5898e3",
   "metadata": {},
   "source": [
    "#### NOte : if its not a normalor if its skewed plot then we can transform the column in different transformation"
   ]
  },
  {
   "cell_type": "raw",
   "id": "bb6140c8-38b2-477c-bc5b-8163aca75c97",
   "metadata": {},
   "source": [
    "1. Log Transform\n",
    "         Most of the time we prefer log transform, because it will help you to smoothing of curve\n",
    "2. SQRT Transform\n",
    "        In sqrt transform we can see the peeks and sometime it will help u to smoothing of curve "
   ]
  },
  {
   "cell_type": "code",
   "execution_count": 75,
   "id": "32ea6399-9c96-4144-94ba-99602f03140c",
   "metadata": {},
   "outputs": [
    {
     "data": {
      "text/plain": [
       "<Axes: xlabel='sales', ylabel='Density'>"
      ]
     },
     "execution_count": 75,
     "metadata": {},
     "output_type": "execute_result"
    },
    {
     "data": {
      "image/png": "[encoded data removed]",
      "text/plain": [
       "<Figure size 640x480 with 1 Axes>"
      ]
     },
     "metadata": {},
     "output_type": "display_data"
    }
   ],
   "source": [
    "#you can use this cod-e to convert into log transformation\n",
    "Y_log= np.log(y)\n",
    "sns.distplot(Y_log, hist = True)"
   ]
  },
  {
   "cell_type": "markdown",
   "id": "8f6af3c7-9f97-48b0-9b08-13446b8b9c4b",
   "metadata": {},
   "source": [
    "#### Note : If d-ata is approximate normal than don't transform coz you willget skewed data \n",
    "\n",
    "#### Note: For good practice make sure that your X variables d-oes not contain High skeweness and \n",
    "#### if its approximately normal then its good."
   ]
  },
  {
   "cell_type": "code",
   "execution_count": 77,
   "id": "2afb22ee-073c-4b99-b8ab-189c70c43560",
   "metadata": {},
   "outputs": [
    {
     "data": {
      "image/png": "[encoded data removed]",
      "text/plain": [
       "<Figure size 640x480 with 4 Axes>"
      ]
     },
     "metadata": {},
     "output_type": "display_data"
    }
   ],
   "source": [
    "#check hist for all variables\n",
    "X.hist(bins= 20)\n",
    "plt.show()"
   ]
  },
  {
   "cell_type": "code",
   "execution_count": 78,
   "id": "057588b9-bf26-42ac-9e59-a819c2a0c2af",
   "metadata": {},
   "outputs": [
    {
     "name": "stdout",
     "output_type": "stream",
     "text": [
      "TV          -0.069328\n",
      "radio        0.093467\n",
      "newspaper    0.887996\n",
      "dtype: float64\n",
      "newspaper    0.887996\n",
      "dtype: float64\n"
     ]
    }
   ],
   "source": [
    "data_new_skew= X.apply(lambda x:skew(x.dropna()))\n",
    "data_new_skewed = data_new_skew[(data_new_skew >0.75) |(data_new_skew< -0.75)]\n",
    "\n",
    "print(data_new_skew)\n",
    "print(data_new_skewed)"
   ]
  },
  {
   "cell_type": "code",
   "execution_count": 79,
   "id": "bb0c5018-bc68-48f0-96d1-496f5e9a35ec",
   "metadata": {},
   "outputs": [
    {
     "data": {
      "text/html": [
       "<div>\n",
       "<style scoped>\n",
       "    .dataframe tbody tr th:only-of-type {\n",
       "        vertical-align: middle;\n",
       "    }\n",
       "\n",
       "    .dataframe tbody tr th {\n",
       "        vertical-align: top;\n",
       "    }\n",
       "\n",
       "    .dataframe thead th {\n",
       "        text-align: right;\n",
       "    }\n",
       "</style>\n",
       "<table border=\"1\" class=\"dataframe\">\n",
       "  <thead>\n",
       "    <tr style=\"text-align: right;\">\n",
       "      <th></th>\n",
       "      <th>newspaper</th>\n",
       "    </tr>\n",
       "  </thead>\n",
       "  <tbody>\n",
       "    <tr>\n",
       "      <th>1</th>\n",
       "      <td>69.2</td>\n",
       "    </tr>\n",
       "    <tr>\n",
       "      <th>2</th>\n",
       "      <td>45.1</td>\n",
       "    </tr>\n",
       "    <tr>\n",
       "      <th>3</th>\n",
       "      <td>69.3</td>\n",
       "    </tr>\n",
       "    <tr>\n",
       "      <th>4</th>\n",
       "      <td>58.5</td>\n",
       "    </tr>\n",
       "    <tr>\n",
       "      <th>5</th>\n",
       "      <td>58.4</td>\n",
       "    </tr>\n",
       "    <tr>\n",
       "      <th>...</th>\n",
       "      <td>...</td>\n",
       "    </tr>\n",
       "    <tr>\n",
       "      <th>196</th>\n",
       "      <td>13.8</td>\n",
       "    </tr>\n",
       "    <tr>\n",
       "      <th>197</th>\n",
       "      <td>8.1</td>\n",
       "    </tr>\n",
       "    <tr>\n",
       "      <th>198</th>\n",
       "      <td>6.4</td>\n",
       "    </tr>\n",
       "    <tr>\n",
       "      <th>199</th>\n",
       "      <td>66.2</td>\n",
       "    </tr>\n",
       "    <tr>\n",
       "      <th>200</th>\n",
       "      <td>8.7</td>\n",
       "    </tr>\n",
       "  </tbody>\n",
       "</table>\n",
       "<p>200 rows × 1 columns</p>\n",
       "</div>"
      ],
      "text/plain": [
       "     newspaper\n",
       "1         69.2\n",
       "2         45.1\n",
       "3         69.3\n",
       "4         58.5\n",
       "5         58.4\n",
       "..         ...\n",
       "196       13.8\n",
       "197        8.1\n",
       "198        6.4\n",
       "199       66.2\n",
       "200        8.7\n",
       "\n",
       "[200 rows x 1 columns]"
      ]
     },
     "execution_count": 79,
     "metadata": {},
     "output_type": "execute_result"
    }
   ],
   "source": [
    "X[data_new_skewed.index]"
   ]
  },
  {
   "cell_type": "code",
   "execution_count": 80,
   "id": "f2d0c14b-dad1-4d2a-8971-ef0f6e975d0c",
   "metadata": {},
   "outputs": [],
   "source": [
    "# apply log+1 transformation for all numeric feature with Skewness over 0.75\n",
    "X[data_new_skewed.index] = np.log1p(X[data_new_skewed.index])"
   ]
  },
  {
   "cell_type": "code",
   "execution_count": 96,
   "id": "1c3c1ffa-b4fd-4677-9acc-2c88e5a22e54",
   "metadata": {},
   "outputs": [
    {
     "data": {
      "text/html": [
       "<div>\n",
       "<style scoped>\n",
       "    .dataframe tbody tr th:only-of-type {\n",
       "        vertical-align: middle;\n",
       "    }\n",
       "\n",
       "    .dataframe tbody tr th {\n",
       "        vertical-align: top;\n",
       "    }\n",
       "\n",
       "    .dataframe thead th {\n",
       "        text-align: right;\n",
       "    }\n",
       "</style>\n",
       "<table border=\"1\" class=\"dataframe\">\n",
       "  <thead>\n",
       "    <tr style=\"text-align: right;\">\n",
       "      <th></th>\n",
       "      <th>newspaper</th>\n",
       "    </tr>\n",
       "  </thead>\n",
       "  <tbody>\n",
       "    <tr>\n",
       "      <th>1</th>\n",
       "      <td>4.251348</td>\n",
       "    </tr>\n",
       "    <tr>\n",
       "      <th>2</th>\n",
       "      <td>3.830813</td>\n",
       "    </tr>\n",
       "    <tr>\n",
       "      <th>3</th>\n",
       "      <td>4.252772</td>\n",
       "    </tr>\n",
       "    <tr>\n",
       "      <th>4</th>\n",
       "      <td>4.085976</td>\n",
       "    </tr>\n",
       "    <tr>\n",
       "      <th>5</th>\n",
       "      <td>4.084294</td>\n",
       "    </tr>\n",
       "    <tr>\n",
       "      <th>...</th>\n",
       "      <td>...</td>\n",
       "    </tr>\n",
       "    <tr>\n",
       "      <th>196</th>\n",
       "      <td>2.694627</td>\n",
       "    </tr>\n",
       "    <tr>\n",
       "      <th>197</th>\n",
       "      <td>2.208274</td>\n",
       "    </tr>\n",
       "    <tr>\n",
       "      <th>198</th>\n",
       "      <td>2.001480</td>\n",
       "    </tr>\n",
       "    <tr>\n",
       "      <th>199</th>\n",
       "      <td>4.207673</td>\n",
       "    </tr>\n",
       "    <tr>\n",
       "      <th>200</th>\n",
       "      <td>2.272126</td>\n",
       "    </tr>\n",
       "  </tbody>\n",
       "</table>\n",
       "<p>200 rows × 1 columns</p>\n",
       "</div>"
      ],
      "text/plain": [
       "     newspaper\n",
       "1     4.251348\n",
       "2     3.830813\n",
       "3     4.252772\n",
       "4     4.085976\n",
       "5     4.084294\n",
       "..         ...\n",
       "196   2.694627\n",
       "197   2.208274\n",
       "198   2.001480\n",
       "199   4.207673\n",
       "200   2.272126\n",
       "\n",
       "[200 rows x 1 columns]"
      ]
     },
     "execution_count": 96,
     "metadata": {},
     "output_type": "execute_result"
    }
   ],
   "source": [
    "X[data_new_skewed.index]"
   ]
  },
  {
   "cell_type": "raw",
   "id": "b882a6e7-6b55-4d7f-89fb-f9bc1b352a4e",
   "metadata": {},
   "source": [
    "Range of skewness is -1 to +1 and value close to 0 means normal distribution "
   ]
  },
  {
   "cell_type": "code",
   "execution_count": 98,
   "id": "26b22508-e78c-4fb8-a6e7-cddca4cc91eb",
   "metadata": {},
   "outputs": [
    {
     "data": {
      "image/png": "[encoded data removed]",
      "text/plain": [
       "<Figure size 640x480 with 4 Axes>"
      ]
     },
     "metadata": {},
     "output_type": "display_data"
    }
   ],
   "source": [
    "# check hist for all variables after log transform of newspaper \n",
    "X.hist(bins=20)\n",
    "plt.show()"
   ]
  },
  {
   "cell_type": "raw",
   "id": "5a8daed9-7f9e-41e7-9d9b-e5dc96871e22",
   "metadata": {},
   "source": [
    "Note : Types Of Models\n",
    "\n",
    "Log - Transform\n",
    "Level- Original\n",
    "\n",
    "    X        Y\n",
    "Log --- Log\n",
    "Log---- Level\n",
    "Level--- Log\n",
    "Level---Level\n",
    "\n",
    "- If the column (x or y) is not normally d-istributed- then use log transform so if x is not normally d-istributed as well as y then use log --log "
   ]
  },
  {
   "cell_type": "markdown",
   "id": "5f7873ab-257e-457a-8d68-ae0c68d370c2",
   "metadata": {},
   "source": [
    "## Assumption 4. There should be No multicollinearity in the Data"
   ]
  },
  {
   "cell_type": "raw",
   "id": "f1c27b7c-b6fb-4e5e-a60e-45040fd2d729",
   "metadata": {},
   "source": [
    "- Multicollinearity is problem where one variable is dependent on other, we want dependent between x and y variables but not in the X variables, so if X variables are depended on each other than the model will not be good.\n",
    "\n",
    "- To check the mullticollinearity we can use the pearsons correlation or VIF value"
   ]
  },
  {
   "cell_type": "markdown",
   "id": "680687d4-28c5-480d-be5d-af92b9083f33",
   "metadata": {},
   "source": [
    "### Pearson Correlation"
   ]
  },
  {
   "cell_type": "code",
   "execution_count": 102,
   "id": "8e3290f7-2c57-4d9f-8873-94fed65003d9",
   "metadata": {},
   "outputs": [
    {
     "name": "stdout",
     "output_type": "stream",
     "text": [
      "                 TV     radio  newspaper\n",
      "TV         1.000000  0.054809   0.030951\n",
      "radio      0.054809  1.000000   0.251909\n",
      "newspaper  0.030951  0.251909   1.000000\n"
     ]
    }
   ],
   "source": [
    "corr_df = X.corr(method =\"pearson\")\n",
    "print(corr_df)"
   ]
  },
  {
   "cell_type": "code",
   "execution_count": 103,
   "id": "11fef744-0b3c-4bf2-bb70-780ab0b57270",
   "metadata": {},
   "outputs": [
    {
     "data": {
      "image/png": "[encoded data removed]",
      "text/plain": [
       "<Figure size 640x480 with 2 Axes>"
      ]
     },
     "metadata": {},
     "output_type": "display_data"
    }
   ],
   "source": [
    "sns.heatmap(corr_df,vmax =1.0 ,vmin=-1.0 ,annot = True)\n",
    "plt.show()"
   ]
  },
  {
   "cell_type": "markdown",
   "id": "67823aff-1bb3-4f68-b3f9-224942f42efc",
   "metadata": {},
   "source": [
    "We want value close to 0 means that is not correlated with each other\n",
    "\n",
    "NOTE: If the       "
   ]
  },
  {
   "cell_type": "markdown",
   "id": "37ec3890-d055-4044-92b2-cf422f3197c0",
   "metadata": {},
   "source": [
    "### CHECK THE VIF\n",
    "sometimes the correlation matrix alone willl not help you to check the multicolinearity so you can use VIF"
   ]
  },
  {
   "cell_type": "code",
   "execution_count": 107,
   "id": "0e484ea7-b22e-4029-ae7a-c4c8120523a4",
   "metadata": {},
   "outputs": [
    {
     "data": {
      "text/html": [
       "<div>\n",
       "<style scoped>\n",
       "    .dataframe tbody tr th:only-of-type {\n",
       "        vertical-align: middle;\n",
       "    }\n",
       "\n",
       "    .dataframe tbody tr th {\n",
       "        vertical-align: top;\n",
       "    }\n",
       "\n",
       "    .dataframe thead th {\n",
       "        text-align: right;\n",
       "    }\n",
       "</style>\n",
       "<table border=\"1\" class=\"dataframe\">\n",
       "  <thead>\n",
       "    <tr style=\"text-align: right;\">\n",
       "      <th></th>\n",
       "      <th>features</th>\n",
       "      <th>VIF Factors</th>\n",
       "    </tr>\n",
       "  </thead>\n",
       "  <tbody>\n",
       "    <tr>\n",
       "      <th>0</th>\n",
       "      <td>TV</td>\n",
       "      <td>3.39</td>\n",
       "    </tr>\n",
       "    <tr>\n",
       "      <th>1</th>\n",
       "      <td>radio</td>\n",
       "      <td>3.63</td>\n",
       "    </tr>\n",
       "    <tr>\n",
       "      <th>2</th>\n",
       "      <td>newspaper</td>\n",
       "      <td>5.44</td>\n",
       "    </tr>\n",
       "  </tbody>\n",
       "</table>\n",
       "</div>"
      ],
      "text/plain": [
       "    features  VIF Factors\n",
       "0         TV         3.39\n",
       "1      radio         3.63\n",
       "2  newspaper         5.44"
      ]
     },
     "execution_count": 107,
     "metadata": {},
     "output_type": "execute_result"
    }
   ],
   "source": [
    "from statsmodels.stats.outliers_influence import variance_inflation_factor as vif\n",
    "\n",
    "vif_df = pd.DataFrame()\n",
    "vif_df[\"features\"] =X.columns\n",
    "vif_df[\"VIF Factors\"] =[vif(X.values,i) for i in range(X.shape[1])]\n",
    "vif_df.round(2)"
   ]
  },
  {
   "cell_type": "markdown",
   "id": "95376746-fc58-44dd-a027-cb2bcd2dbe57",
   "metadata": {},
   "source": [
    "### OR"
   ]
  },
  {
   "cell_type": "code",
   "execution_count": 110,
   "id": "b82e62a2-d95e-4503-ab24-f179c711cf37",
   "metadata": {},
   "outputs": [
    {
     "data": {
      "text/html": [
       "<div>\n",
       "<style scoped>\n",
       "    .dataframe tbody tr th:only-of-type {\n",
       "        vertical-align: middle;\n",
       "    }\n",
       "\n",
       "    .dataframe tbody tr th {\n",
       "        vertical-align: top;\n",
       "    }\n",
       "\n",
       "    .dataframe thead th {\n",
       "        text-align: right;\n",
       "    }\n",
       "</style>\n",
       "<table border=\"1\" class=\"dataframe\">\n",
       "  <thead>\n",
       "    <tr style=\"text-align: right;\">\n",
       "      <th></th>\n",
       "      <th>features</th>\n",
       "      <th>VIF Factors</th>\n",
       "    </tr>\n",
       "  </thead>\n",
       "  <tbody>\n",
       "    <tr>\n",
       "      <th>0</th>\n",
       "      <td>TV</td>\n",
       "      <td>3.39</td>\n",
       "    </tr>\n",
       "    <tr>\n",
       "      <th>1</th>\n",
       "      <td>radio</td>\n",
       "      <td>3.63</td>\n",
       "    </tr>\n",
       "    <tr>\n",
       "      <th>2</th>\n",
       "      <td>newspaper</td>\n",
       "      <td>5.44</td>\n",
       "    </tr>\n",
       "  </tbody>\n",
       "</table>\n",
       "</div>"
      ],
      "text/plain": [
       "    features  VIF Factors\n",
       "0         TV         3.39\n",
       "1      radio         3.63\n",
       "2  newspaper         5.44"
      ]
     },
     "execution_count": 110,
     "metadata": {},
     "output_type": "execute_result"
    }
   ],
   "source": [
    "all_scores=[]\n",
    "\n",
    "for i in range(X.shape[1]):\n",
    "    v= vif(X.values,i)\n",
    "    all_scores.append(round(v,2))\n",
    "vif_df[\"VIF Factors\"]= all_scores\n",
    "\n",
    "vif_df.round(2)"
   ]
  },
  {
   "cell_type": "code",
   "execution_count": 111,
   "id": "128cd9ef-b64a-4cfa-922f-22eca1c1385f",
   "metadata": {},
   "outputs": [
    {
     "data": {
      "text/plain": [
       "(200, 3)"
      ]
     },
     "execution_count": 111,
     "metadata": {},
     "output_type": "execute_result"
    }
   ],
   "source": [
    "X.shape"
   ]
  },
  {
   "cell_type": "raw",
   "id": "b0535770-5663-43b9-88bb-9dca702dae68",
   "metadata": {},
   "source": [
    "less than 5 value is good- in VIF which represent no multicolinearity \n",
    "\n",
    "NOTE :Once you eliminate one variable based- on VIF score then other variables VIF also change and it will increase "
   ]
  },
  {
   "cell_type": "code",
   "execution_count": 113,
   "id": "0aaf5ef7-9ade-40aa-a3a6-681de5ccb1ee",
   "metadata": {},
   "outputs": [],
   "source": [
    "#df.drop(\"newspaper\")"
   ]
  },
  {
   "cell_type": "code",
   "execution_count": 114,
   "id": "6910157c-d5ec-421c-a208-7770ee84880e",
   "metadata": {},
   "outputs": [],
   "source": [
    "from sklearn.model_selection import train_test_split"
   ]
  },
  {
   "cell_type": "code",
   "execution_count": 115,
   "id": "99df20e9-7ef9-4dbb-ba67-96ef26ed636f",
   "metadata": {},
   "outputs": [],
   "source": [
    "## here random_state is used to make sure that all will get the same data in test or train\n",
    "\n",
    "# > 1000 ---> TEST SIZE =0.3\n",
    "#< 1000---> TEST SIZE =0.2\n",
    "\n",
    "#split the data into test and train\n",
    "X_train, X_test, y_train,y_test =train_test_split(X,\n",
    "                                                 y,\n",
    "                                                 test_size=0.2,\n",
    "                                                 random_state= 10)"
   ]
  },
  {
   "cell_type": "code",
   "execution_count": 117,
   "id": "57c26f2e-3660-4888-8a90-06ba02b2cdfa",
   "metadata": {},
   "outputs": [
    {
     "data": {
      "text/plain": [
       "(200, 4)"
      ]
     },
     "execution_count": 117,
     "metadata": {},
     "output_type": "execute_result"
    }
   ],
   "source": [
    "df.shape"
   ]
  },
  {
   "cell_type": "code",
   "execution_count": 119,
   "id": "1ae8d07e-65bc-4b04-ae32-2759169cdf6c",
   "metadata": {},
   "outputs": [
    {
     "name": "stdout",
     "output_type": "stream",
     "text": [
      "(160, 3)\n",
      "(160,)\n",
      "(40, 3)\n",
      "(40,)\n"
     ]
    }
   ],
   "source": [
    "print(X_train.shape)\n",
    "print(y_train.shape)\n",
    "print(X_test.shape)\n",
    "print(y_test.shape)"
   ]
  },
  {
   "cell_type": "code",
   "execution_count": 120,
   "id": "337694a2-afae-4be5-8f07-d429072f92d1",
   "metadata": {},
   "outputs": [],
   "source": [
    "from sklearn.preprocessing import StandardScaler, MinMaxScaler\n",
    "\n",
    "scaler= MinMaxScaler()\n",
    "\n",
    "scaler.fit(X_train)\n",
    "\n",
    "X_train_scale = scaler.transform(X_train)\n",
    "X_test_scale= scaler.transform(X_test)"
   ]
  },
  {
   "cell_type": "code",
   "execution_count": 121,
   "id": "a76af595-b0ec-40c1-bae1-00a989c40a01",
   "metadata": {},
   "outputs": [
    {
     "data": {
      "text/html": [
       "<div>\n",
       "<style scoped>\n",
       "    .dataframe tbody tr th:only-of-type {\n",
       "        vertical-align: middle;\n",
       "    }\n",
       "\n",
       "    .dataframe tbody tr th {\n",
       "        vertical-align: top;\n",
       "    }\n",
       "\n",
       "    .dataframe thead th {\n",
       "        text-align: right;\n",
       "    }\n",
       "</style>\n",
       "<table border=\"1\" class=\"dataframe\">\n",
       "  <thead>\n",
       "    <tr style=\"text-align: right;\">\n",
       "      <th></th>\n",
       "      <th>TV</th>\n",
       "      <th>radio</th>\n",
       "      <th>newspaper</th>\n",
       "    </tr>\n",
       "  </thead>\n",
       "  <tbody>\n",
       "    <tr>\n",
       "      <th>191</th>\n",
       "      <td>39.5</td>\n",
       "      <td>41.1</td>\n",
       "      <td>1.916923</td>\n",
       "    </tr>\n",
       "    <tr>\n",
       "      <th>8</th>\n",
       "      <td>120.2</td>\n",
       "      <td>19.6</td>\n",
       "      <td>2.533697</td>\n",
       "    </tr>\n",
       "    <tr>\n",
       "      <th>27</th>\n",
       "      <td>142.9</td>\n",
       "      <td>29.3</td>\n",
       "      <td>2.610070</td>\n",
       "    </tr>\n",
       "    <tr>\n",
       "      <th>139</th>\n",
       "      <td>43.0</td>\n",
       "      <td>25.9</td>\n",
       "      <td>3.068053</td>\n",
       "    </tr>\n",
       "    <tr>\n",
       "      <th>59</th>\n",
       "      <td>210.8</td>\n",
       "      <td>49.6</td>\n",
       "      <td>3.655840</td>\n",
       "    </tr>\n",
       "    <tr>\n",
       "      <th>...</th>\n",
       "      <td>...</td>\n",
       "      <td>...</td>\n",
       "      <td>...</td>\n",
       "    </tr>\n",
       "    <tr>\n",
       "      <th>114</th>\n",
       "      <td>209.6</td>\n",
       "      <td>20.6</td>\n",
       "      <td>2.459589</td>\n",
       "    </tr>\n",
       "    <tr>\n",
       "      <th>65</th>\n",
       "      <td>131.1</td>\n",
       "      <td>42.8</td>\n",
       "      <td>3.397858</td>\n",
       "    </tr>\n",
       "    <tr>\n",
       "      <th>16</th>\n",
       "      <td>195.4</td>\n",
       "      <td>47.7</td>\n",
       "      <td>3.987130</td>\n",
       "    </tr>\n",
       "    <tr>\n",
       "      <th>126</th>\n",
       "      <td>87.2</td>\n",
       "      <td>11.8</td>\n",
       "      <td>3.292126</td>\n",
       "    </tr>\n",
       "    <tr>\n",
       "      <th>10</th>\n",
       "      <td>199.8</td>\n",
       "      <td>2.6</td>\n",
       "      <td>3.100092</td>\n",
       "    </tr>\n",
       "  </tbody>\n",
       "</table>\n",
       "<p>160 rows × 3 columns</p>\n",
       "</div>"
      ],
      "text/plain": [
       "        TV  radio  newspaper\n",
       "191   39.5   41.1   1.916923\n",
       "8    120.2   19.6   2.533697\n",
       "27   142.9   29.3   2.610070\n",
       "139   43.0   25.9   3.068053\n",
       "59   210.8   49.6   3.655840\n",
       "..     ...    ...        ...\n",
       "114  209.6   20.6   2.459589\n",
       "65   131.1   42.8   3.397858\n",
       "16   195.4   47.7   3.987130\n",
       "126   87.2   11.8   3.292126\n",
       "10   199.8    2.6   3.100092\n",
       "\n",
       "[160 rows x 3 columns]"
      ]
     },
     "execution_count": 121,
     "metadata": {},
     "output_type": "execute_result"
    }
   ],
   "source": [
    "X_train"
   ]
  },
  {
   "cell_type": "code",
   "execution_count": 123,
   "id": "4dc14e64-09d1-4488-a6f9-74369c86272d",
   "metadata": {},
   "outputs": [
    {
     "data": {
      "text/plain": [
       "array([[ 0.70680807,  0.59229209,  0.46173972],\n",
       "       [ 0.01573726,  0.98580122,  0.90759788],\n",
       "       [ 0.73315087,  0.55578093,  0.83300465],\n",
       "       [ 0.95620937,  0.84584178,  0.88014484],\n",
       "       [ 0.72630859,  0.83975659,  0.76773044],\n",
       "       [ 0.48990763,  0.47870183,  0.61088993],\n",
       "       [ 0.63051659,  0.36105477,  0.67339682],\n",
       "       [ 0.66643859,  0.9959432 ,  0.85855021],\n",
       "       [ 0.72767704,  0.88438134,  0.68642747],\n",
       "       [ 0.04481697,  0.92494929,  0.89020572],\n",
       "       [ 0.97707834,  0.85192698,  0.82379528],\n",
       "       [ 0.21211085,  0.11156187,  0.66133516],\n",
       "       [ 0.04379063,  0.88032454,  0.94630581],\n",
       "       [ 0.74033527,  0.6673428 ,  0.75818818],\n",
       "       [ 0.77112556,  0.64908722,  0.90523715],\n",
       "       [ 0.33732467,  0.59432049,  0.44134199],\n",
       "       [ 0.85973315,  0.53955375,  0.35904374],\n",
       "       [ 0.00444749,  0.60040568,  0.46389516],\n",
       "       [ 0.8128635 ,  0.76470588,  0.65230209],\n",
       "       [ 0.68730756,  0.90872211,  0.61637144],\n",
       "       [ 0.62846391,  0.42190669,  0.46602998],\n",
       "       [-0.01163189,  0.79716024,  0.44835052],\n",
       "       [ 0.87991789,  0.86004057,  0.83827306],\n",
       "       [ 0.36469381,  0.81744422,  0.86995648],\n",
       "       [ 0.94457749,  0.19878296,  0.63505936],\n",
       "       [ 0.0502908 ,  0.43407708,  0.82034986],\n",
       "       [ 0.07355457,  0.78498986,  0.46173972],\n",
       "       [ 0.13821416,  0.79107505,  0.79607243],\n",
       "       [ 0.80670544,  0.8356998 ,  0.60412921],\n",
       "       [ 0.05302771,  0.40162272,  0.58627277],\n",
       "       [ 0.4365378 ,  0.36713996,  0.73841188],\n",
       "       [ 0.76599384,  0.75862069,  0.72149344],\n",
       "       [ 0.08005474,  0.02636917,  0.62797666],\n",
       "       [ 0.083818  ,  0.02434077,  0.72815323],\n",
       "       [ 0.98049949,  0.07707911,  0.44370272],\n",
       "       [ 0.93260349,  0.04056795,  0.65686434],\n",
       "       [ 0.26034896, -0.00608519,  0.45956325],\n",
       "       [ 0.95860417,  0.20892495,  0.3879731 ],\n",
       "       [ 0.29284981,  0.19472617,  0.74520065],\n",
       "       [ 0.74683544,  0.06288032,  0.53179575]])"
      ]
     },
     "execution_count": 123,
     "metadata": {},
     "output_type": "execute_result"
    }
   ],
   "source": [
    "X_test_scale"
   ]
  },
  {
   "cell_type": "markdown",
   "id": "2218c757-a37d-4b86-a24a-1aaba9f5b8a9",
   "metadata": {},
   "source": [
    "## Model Building"
   ]
  },
  {
   "cell_type": "code",
   "execution_count": 125,
   "id": "1c4b2c7a-208a-4933-bc3e-68ca16c2f17e",
   "metadata": {},
   "outputs": [
    {
     "data": {
      "text/html": [
       "<style>#sk-container-id-1 {\n",
       "  /* Definition of color scheme common for light and dark mode */\n",
       "  --sklearn-color-text: black;\n",
       "  --sklearn-color-line: gray;\n",
       "  /* Definition of color scheme for unfitted estimators */\n",
       "  --sklearn-color-unfitted-level-0: #fff5e6;\n",
       "  --sklearn-color-unfitted-level-1: #f6e4d2;\n",
       "  --sklearn-color-unfitted-level-2: #ffe0b3;\n",
       "  --sklearn-color-unfitted-level-3: chocolate;\n",
       "  /* Definition of color scheme for fitted estimators */\n",
       "  --sklearn-color-fitted-level-0: #f0f8ff;\n",
       "  --sklearn-color-fitted-level-1: #d4ebff;\n",
       "  --sklearn-color-fitted-level-2: #b3dbfd;\n",
       "  --sklearn-color-fitted-level-3: cornflowerblue;\n",
       "\n",
       "  /* Specific color for light theme */\n",
       "  --sklearn-color-text-on-default-background: var(--sg-text-color, var(--theme-code-foreground, var(--jp-content-font-color1, black)));\n",
       "  --sklearn-color-background: var(--sg-background-color, var(--theme-background, var(--jp-layout-color0, white)));\n",
       "  --sklearn-color-border-box: var(--sg-text-color, var(--theme-code-foreground, var(--jp-content-font-color1, black)));\n",
       "  --sklearn-color-icon: #696969;\n",
       "\n",
       "  @media (prefers-color-scheme: dark) {\n",
       "    /* Redefinition of color scheme for dark theme */\n",
       "    --sklearn-color-text-on-default-background: var(--sg-text-color, var(--theme-code-foreground, var(--jp-content-font-color1, white)));\n",
       "    --sklearn-color-background: var(--sg-background-color, var(--theme-background, var(--jp-layout-color0, #111)));\n",
       "    --sklearn-color-border-box: var(--sg-text-color, var(--theme-code-foreground, var(--jp-content-font-color1, white)));\n",
       "    --sklearn-color-icon: #878787;\n",
       "  }\n",
       "}\n",
       "\n",
       "#sk-container-id-1 {\n",
       "  color: var(--sklearn-color-text);\n",
       "}\n",
       "\n",
       "#sk-container-id-1 pre {\n",
       "  padding: 0;\n",
       "}\n",
       "\n",
       "#sk-container-id-1 input.sk-hidden--visually {\n",
       "  border: 0;\n",
       "  clip: rect(1px 1px 1px 1px);\n",
       "  clip: rect(1px, 1px, 1px, 1px);\n",
       "  height: 1px;\n",
       "  margin: -1px;\n",
       "  overflow: hidden;\n",
       "  padding: 0;\n",
       "  position: absolute;\n",
       "  width: 1px;\n",
       "}\n",
       "\n",
       "#sk-container-id-1 div.sk-dashed-wrapped {\n",
       "  border: 1px dashed var(--sklearn-color-line);\n",
       "  margin: 0 0.4em 0.5em 0.4em;\n",
       "  box-sizing: border-box;\n",
       "  padding-bottom: 0.4em;\n",
       "  background-color: var(--sklearn-color-background);\n",
       "}\n",
       "\n",
       "#sk-container-id-1 div.sk-container {\n",
       "  /* jupyter's `normalize.less` sets `[hidden] { display: none; }`\n",
       "     but bootstrap.min.css set `[hidden] { display: none !important; }`\n",
       "     so we also need the `!important` here to be able to override the\n",
       "     default hidden behavior on the sphinx rendered scikit-learn.org.\n",
       "     See: https://github.com/scikit-learn/scikit-learn/issues/21755 */\n",
       "  display: inline-block !important;\n",
       "  position: relative;\n",
       "}\n",
       "\n",
       "#sk-container-id-1 div.sk-text-repr-fallback {\n",
       "  display: none;\n",
       "}\n",
       "\n",
       "div.sk-parallel-item,\n",
       "div.sk-serial,\n",
       "div.sk-item {\n",
       "  /* draw centered vertical line to link estimators */\n",
       "  background-image: linear-gradient(var(--sklearn-color-text-on-default-background), var(--sklearn-color-text-on-default-background));\n",
       "  background-size: 2px 100%;\n",
       "  background-repeat: no-repeat;\n",
       "  background-position: center center;\n",
       "}\n",
       "\n",
       "/* Parallel-specific style estimator block */\n",
       "\n",
       "#sk-container-id-1 div.sk-parallel-item::after {\n",
       "  content: \"\";\n",
       "  width: 100%;\n",
       "  border-bottom: 2px solid var(--sklearn-color-text-on-default-background);\n",
       "  flex-grow: 1;\n",
       "}\n",
       "\n",
       "#sk-container-id-1 div.sk-parallel {\n",
       "  display: flex;\n",
       "  align-items: stretch;\n",
       "  justify-content: center;\n",
       "  background-color: var(--sklearn-color-background);\n",
       "  position: relative;\n",
       "}\n",
       "\n",
       "#sk-container-id-1 div.sk-parallel-item {\n",
       "  display: flex;\n",
       "  flex-direction: column;\n",
       "}\n",
       "\n",
       "#sk-container-id-1 div.sk-parallel-item:first-child::after {\n",
       "  align-self: flex-end;\n",
       "  width: 50%;\n",
       "}\n",
       "\n",
       "#sk-container-id-1 div.sk-parallel-item:last-child::after {\n",
       "  align-self: flex-start;\n",
       "  width: 50%;\n",
       "}\n",
       "\n",
       "#sk-container-id-1 div.sk-parallel-item:only-child::after {\n",
       "  width: 0;\n",
       "}\n",
       "\n",
       "/* Serial-specific style estimator block */\n",
       "\n",
       "#sk-container-id-1 div.sk-serial {\n",
       "  display: flex;\n",
       "  flex-direction: column;\n",
       "  align-items: center;\n",
       "  background-color: var(--sklearn-color-background);\n",
       "  padding-right: 1em;\n",
       "  padding-left: 1em;\n",
       "}\n",
       "\n",
       "\n",
       "/* Toggleable style: style used for estimator/Pipeline/ColumnTransformer box that is\n",
       "clickable and can be expanded/collapsed.\n",
       "- Pipeline and ColumnTransformer use this feature and define the default style\n",
       "- Estimators will overwrite some part of the style using the `sk-estimator` class\n",
       "*/\n",
       "\n",
       "/* Pipeline and ColumnTransformer style (default) */\n",
       "\n",
       "#sk-container-id-1 div.sk-toggleable {\n",
       "  /* Default theme specific background. It is overwritten whether we have a\n",
       "  specific estimator or a Pipeline/ColumnTransformer */\n",
       "  background-color: var(--sklearn-color-background);\n",
       "}\n",
       "\n",
       "/* Toggleable label */\n",
       "#sk-container-id-1 label.sk-toggleable__label {\n",
       "  cursor: pointer;\n",
       "  display: block;\n",
       "  width: 100%;\n",
       "  margin-bottom: 0;\n",
       "  padding: 0.5em;\n",
       "  box-sizing: border-box;\n",
       "  text-align: center;\n",
       "}\n",
       "\n",
       "#sk-container-id-1 label.sk-toggleable__label-arrow:before {\n",
       "  /* Arrow on the left of the label */\n",
       "  content: \"▸\";\n",
       "  float: left;\n",
       "  margin-right: 0.25em;\n",
       "  color: var(--sklearn-color-icon);\n",
       "}\n",
       "\n",
       "#sk-container-id-1 label.sk-toggleable__label-arrow:hover:before {\n",
       "  color: var(--sklearn-color-text);\n",
       "}\n",
       "\n",
       "/* Toggleable content - dropdown */\n",
       "\n",
       "#sk-container-id-1 div.sk-toggleable__content {\n",
       "  max-height: 0;\n",
       "  max-width: 0;\n",
       "  overflow: hidden;\n",
       "  text-align: left;\n",
       "  /* unfitted */\n",
       "  background-color: var(--sklearn-color-unfitted-level-0);\n",
       "}\n",
       "\n",
       "#sk-container-id-1 div.sk-toggleable__content.fitted {\n",
       "  /* fitted */\n",
       "  background-color: var(--sklearn-color-fitted-level-0);\n",
       "}\n",
       "\n",
       "#sk-container-id-1 div.sk-toggleable__content pre {\n",
       "  margin: 0.2em;\n",
       "  border-radius: 0.25em;\n",
       "  color: var(--sklearn-color-text);\n",
       "  /* unfitted */\n",
       "  background-color: var(--sklearn-color-unfitted-level-0);\n",
       "}\n",
       "\n",
       "#sk-container-id-1 div.sk-toggleable__content.fitted pre {\n",
       "  /* unfitted */\n",
       "  background-color: var(--sklearn-color-fitted-level-0);\n",
       "}\n",
       "\n",
       "#sk-container-id-1 input.sk-toggleable__control:checked~div.sk-toggleable__content {\n",
       "  /* Expand drop-down */\n",
       "  max-height: 200px;\n",
       "  max-width: 100%;\n",
       "  overflow: auto;\n",
       "}\n",
       "\n",
       "#sk-container-id-1 input.sk-toggleable__control:checked~label.sk-toggleable__label-arrow:before {\n",
       "  content: \"▾\";\n",
       "}\n",
       "\n",
       "/* Pipeline/ColumnTransformer-specific style */\n",
       "\n",
       "#sk-container-id-1 div.sk-label input.sk-toggleable__control:checked~label.sk-toggleable__label {\n",
       "  color: var(--sklearn-color-text);\n",
       "  background-color: var(--sklearn-color-unfitted-level-2);\n",
       "}\n",
       "\n",
       "#sk-container-id-1 div.sk-label.fitted input.sk-toggleable__control:checked~label.sk-toggleable__label {\n",
       "  background-color: var(--sklearn-color-fitted-level-2);\n",
       "}\n",
       "\n",
       "/* Estimator-specific style */\n",
       "\n",
       "/* Colorize estimator box */\n",
       "#sk-container-id-1 div.sk-estimator input.sk-toggleable__control:checked~label.sk-toggleable__label {\n",
       "  /* unfitted */\n",
       "  background-color: var(--sklearn-color-unfitted-level-2);\n",
       "}\n",
       "\n",
       "#sk-container-id-1 div.sk-estimator.fitted input.sk-toggleable__control:checked~label.sk-toggleable__label {\n",
       "  /* fitted */\n",
       "  background-color: var(--sklearn-color-fitted-level-2);\n",
       "}\n",
       "\n",
       "#sk-container-id-1 div.sk-label label.sk-toggleable__label,\n",
       "#sk-container-id-1 div.sk-label label {\n",
       "  /* The background is the default theme color */\n",
       "  color: var(--sklearn-color-text-on-default-background);\n",
       "}\n",
       "\n",
       "/* On hover, darken the color of the background */\n",
       "#sk-container-id-1 div.sk-label:hover label.sk-toggleable__label {\n",
       "  color: var(--sklearn-color-text);\n",
       "  background-color: var(--sklearn-color-unfitted-level-2);\n",
       "}\n",
       "\n",
       "/* Label box, darken color on hover, fitted */\n",
       "#sk-container-id-1 div.sk-label.fitted:hover label.sk-toggleable__label.fitted {\n",
       "  color: var(--sklearn-color-text);\n",
       "  background-color: var(--sklearn-color-fitted-level-2);\n",
       "}\n",
       "\n",
       "/* Estimator label */\n",
       "\n",
       "#sk-container-id-1 div.sk-label label {\n",
       "  font-family: monospace;\n",
       "  font-weight: bold;\n",
       "  display: inline-block;\n",
       "  line-height: 1.2em;\n",
       "}\n",
       "\n",
       "#sk-container-id-1 div.sk-label-container {\n",
       "  text-align: center;\n",
       "}\n",
       "\n",
       "/* Estimator-specific */\n",
       "#sk-container-id-1 div.sk-estimator {\n",
       "  font-family: monospace;\n",
       "  border: 1px dotted var(--sklearn-color-border-box);\n",
       "  border-radius: 0.25em;\n",
       "  box-sizing: border-box;\n",
       "  margin-bottom: 0.5em;\n",
       "  /* unfitted */\n",
       "  background-color: var(--sklearn-color-unfitted-level-0);\n",
       "}\n",
       "\n",
       "#sk-container-id-1 div.sk-estimator.fitted {\n",
       "  /* fitted */\n",
       "  background-color: var(--sklearn-color-fitted-level-0);\n",
       "}\n",
       "\n",
       "/* on hover */\n",
       "#sk-container-id-1 div.sk-estimator:hover {\n",
       "  /* unfitted */\n",
       "  background-color: var(--sklearn-color-unfitted-level-2);\n",
       "}\n",
       "\n",
       "#sk-container-id-1 div.sk-estimator.fitted:hover {\n",
       "  /* fitted */\n",
       "  background-color: var(--sklearn-color-fitted-level-2);\n",
       "}\n",
       "\n",
       "/* Specification for estimator info (e.g. \"i\" and \"?\") */\n",
       "\n",
       "/* Common style for \"i\" and \"?\" */\n",
       "\n",
       ".sk-estimator-doc-link,\n",
       "a:link.sk-estimator-doc-link,\n",
       "a:visited.sk-estimator-doc-link {\n",
       "  float: right;\n",
       "  font-size: smaller;\n",
       "  line-height: 1em;\n",
       "  font-family: monospace;\n",
       "  background-color: var(--sklearn-color-background);\n",
       "  border-radius: 1em;\n",
       "  height: 1em;\n",
       "  width: 1em;\n",
       "  text-decoration: none !important;\n",
       "  margin-left: 1ex;\n",
       "  /* unfitted */\n",
       "  border: var(--sklearn-color-unfitted-level-1) 1pt solid;\n",
       "  color: var(--sklearn-color-unfitted-level-1);\n",
       "}\n",
       "\n",
       ".sk-estimator-doc-link.fitted,\n",
       "a:link.sk-estimator-doc-link.fitted,\n",
       "a:visited.sk-estimator-doc-link.fitted {\n",
       "  /* fitted */\n",
       "  border: var(--sklearn-color-fitted-level-1) 1pt solid;\n",
       "  color: var(--sklearn-color-fitted-level-1);\n",
       "}\n",
       "\n",
       "/* On hover */\n",
       "div.sk-estimator:hover .sk-estimator-doc-link:hover,\n",
       ".sk-estimator-doc-link:hover,\n",
       "div.sk-label-container:hover .sk-estimator-doc-link:hover,\n",
       ".sk-estimator-doc-link:hover {\n",
       "  /* unfitted */\n",
       "  background-color: var(--sklearn-color-unfitted-level-3);\n",
       "  color: var(--sklearn-color-background);\n",
       "  text-decoration: none;\n",
       "}\n",
       "\n",
       "div.sk-estimator.fitted:hover .sk-estimator-doc-link.fitted:hover,\n",
       ".sk-estimator-doc-link.fitted:hover,\n",
       "div.sk-label-container:hover .sk-estimator-doc-link.fitted:hover,\n",
       ".sk-estimator-doc-link.fitted:hover {\n",
       "  /* fitted */\n",
       "  background-color: var(--sklearn-color-fitted-level-3);\n",
       "  color: var(--sklearn-color-background);\n",
       "  text-decoration: none;\n",
       "}\n",
       "\n",
       "/* Span, style for the box shown on hovering the info icon */\n",
       ".sk-estimator-doc-link span {\n",
       "  display: none;\n",
       "  z-index: 9999;\n",
       "  position: relative;\n",
       "  font-weight: normal;\n",
       "  right: .2ex;\n",
       "  padding: .5ex;\n",
       "  margin: .5ex;\n",
       "  width: min-content;\n",
       "  min-width: 20ex;\n",
       "  max-width: 50ex;\n",
       "  color: var(--sklearn-color-text);\n",
       "  box-shadow: 2pt 2pt 4pt #999;\n",
       "  /* unfitted */\n",
       "  background: var(--sklearn-color-unfitted-level-0);\n",
       "  border: .5pt solid var(--sklearn-color-unfitted-level-3);\n",
       "}\n",
       "\n",
       ".sk-estimator-doc-link.fitted span {\n",
       "  /* fitted */\n",
       "  background: var(--sklearn-color-fitted-level-0);\n",
       "  border: var(--sklearn-color-fitted-level-3);\n",
       "}\n",
       "\n",
       ".sk-estimator-doc-link:hover span {\n",
       "  display: block;\n",
       "}\n",
       "\n",
       "/* \"?\"-specific style due to the `<a>` HTML tag */\n",
       "\n",
       "#sk-container-id-1 a.estimator_doc_link {\n",
       "  float: right;\n",
       "  font-size: 1rem;\n",
       "  line-height: 1em;\n",
       "  font-family: monospace;\n",
       "  background-color: var(--sklearn-color-background);\n",
       "  border-radius: 1rem;\n",
       "  height: 1rem;\n",
       "  width: 1rem;\n",
       "  text-decoration: none;\n",
       "  /* unfitted */\n",
       "  color: var(--sklearn-color-unfitted-level-1);\n",
       "  border: var(--sklearn-color-unfitted-level-1) 1pt solid;\n",
       "}\n",
       "\n",
       "#sk-container-id-1 a.estimator_doc_link.fitted {\n",
       "  /* fitted */\n",
       "  border: var(--sklearn-color-fitted-level-1) 1pt solid;\n",
       "  color: var(--sklearn-color-fitted-level-1);\n",
       "}\n",
       "\n",
       "/* On hover */\n",
       "#sk-container-id-1 a.estimator_doc_link:hover {\n",
       "  /* unfitted */\n",
       "  background-color: var(--sklearn-color-unfitted-level-3);\n",
       "  color: var(--sklearn-color-background);\n",
       "  text-decoration: none;\n",
       "}\n",
       "\n",
       "#sk-container-id-1 a.estimator_doc_link.fitted:hover {\n",
       "  /* fitted */\n",
       "  background-color: var(--sklearn-color-fitted-level-3);\n",
       "}\n",
       "</style><div id=\"sk-container-id-1\" class=\"sk-top-container\"><div class=\"sk-text-repr-fallback\"><pre>LinearRegression()</pre><b>In a Jupyter environment, please rerun this cell to show the HTML representation or trust the notebook. <br />On GitHub, the HTML representation is unable to render, please try loading this page with nbviewer.org.</b></div><div class=\"sk-container\" hidden><div class=\"sk-item\"><div class=\"sk-estimator fitted sk-toggleable\"><input class=\"sk-toggleable__control sk-hidden--visually\" id=\"sk-estimator-id-1\" type=\"checkbox\" checked><label for=\"sk-estimator-id-1\" class=\"sk-toggleable__label fitted sk-toggleable__label-arrow fitted\">&nbsp;&nbsp;LinearRegression<a class=\"sk-estimator-doc-link fitted\" rel=\"noreferrer\" target=\"_blank\" href=\"https://scikit-learn.org/1.5/modules/generated/sklearn.linear_model.LinearRegression.html\">?<span>Documentation for LinearRegression</span></a><span class=\"sk-estimator-doc-link fitted\">i<span>Fitted</span></span></label><div class=\"sk-toggleable__content fitted\"><pre>LinearRegression()</pre></div> </div></div></div></div>"
      ],
      "text/plain": [
       "LinearRegression()"
      ]
     },
     "execution_count": 125,
     "metadata": {},
     "output_type": "execute_result"
    }
   ],
   "source": [
    "from sklearn.linear_model import LinearRegression\n",
    "\n",
    "#create a model object\n",
    "lm=LinearRegression()\n",
    "\n",
    "# train the model object\n",
    "lm.fit(X_train_scale, y_train)"
   ]
  },
  {
   "cell_type": "code",
   "execution_count": 126,
   "id": "be46c639-5e02-4fb2-b4ae-b38dfd73c554",
   "metadata": {},
   "outputs": [
    {
     "name": "stdout",
     "output_type": "stream",
     "text": [
      "3.577703676256256\n",
      "[12.78593321  9.51672799 -0.21942783]\n"
     ]
    }
   ],
   "source": [
    "#print intercept and coefficients\n",
    "print(lm.intercept_)\n",
    "print(lm.coef_)"
   ]
  },
  {
   "cell_type": "code",
   "execution_count": 127,
   "id": "031d4716-db76-4d04-b444-029c98bb84e4",
   "metadata": {},
   "outputs": [
    {
     "name": "stdout",
     "output_type": "stream",
     "text": [
      "[('TV', 12.785933211080344), ('radio', 9.516727993391221), ('newspaper', -0.21942783008785405)]\n"
     ]
    }
   ],
   "source": [
    "#pair the feature names with the coefficeints\n",
    "print(list(zip(feature_cols,lm.coef_)))"
   ]
  },
  {
   "cell_type": "code",
   "execution_count": 128,
   "id": "bbe3ce1f-a7e6-4973-b0ee-3b1ff4dcf193",
   "metadata": {},
   "outputs": [
    {
     "name": "stdout",
     "output_type": "stream",
     "text": [
      "4421.239416691007\n"
     ]
    }
   ],
   "source": [
    "# try changing the value of X (for example using formula)\n",
    "600\n",
    "X1=200 # tv\n",
    "X2=200# radio\n",
    "X3=200# newspaper\n",
    "\n",
    "y_pred_single_data =3.5963760844147785 +(12.782407911332024 * X1)+(9.505331299323426 *X2)+ (-0.19952400762248823* X3)\n",
    "print(y_pred_single_data)"
   ]
  },
  {
   "cell_type": "code",
   "execution_count": 129,
   "id": "c65e85ae-f3f9-4f36-8806-29518f810a0e",
   "metadata": {},
   "outputs": [
    {
     "data": {
      "text/html": [
       "<div>\n",
       "<style scoped>\n",
       "    .dataframe tbody tr th:only-of-type {\n",
       "        vertical-align: middle;\n",
       "    }\n",
       "\n",
       "    .dataframe tbody tr th {\n",
       "        vertical-align: top;\n",
       "    }\n",
       "\n",
       "    .dataframe thead th {\n",
       "        text-align: right;\n",
       "    }\n",
       "</style>\n",
       "<table border=\"1\" class=\"dataframe\">\n",
       "  <thead>\n",
       "    <tr style=\"text-align: right;\">\n",
       "      <th></th>\n",
       "      <th>TV</th>\n",
       "      <th>radio</th>\n",
       "      <th>newspaper</th>\n",
       "    </tr>\n",
       "  </thead>\n",
       "  <tbody>\n",
       "    <tr>\n",
       "      <th>60</th>\n",
       "      <td>210.7</td>\n",
       "      <td>29.5</td>\n",
       "      <td>2.332144</td>\n",
       "    </tr>\n",
       "    <tr>\n",
       "      <th>6</th>\n",
       "      <td>8.7</td>\n",
       "      <td>48.9</td>\n",
       "      <td>4.330733</td>\n",
       "    </tr>\n",
       "    <tr>\n",
       "      <th>21</th>\n",
       "      <td>218.4</td>\n",
       "      <td>27.7</td>\n",
       "      <td>3.996364</td>\n",
       "    </tr>\n",
       "    <tr>\n",
       "      <th>199</th>\n",
       "      <td>283.6</td>\n",
       "      <td>42.0</td>\n",
       "      <td>4.207673</td>\n",
       "    </tr>\n",
       "    <tr>\n",
       "      <th>53</th>\n",
       "      <td>216.4</td>\n",
       "      <td>41.7</td>\n",
       "      <td>3.703768</td>\n",
       "    </tr>\n",
       "    <tr>\n",
       "      <th>20</th>\n",
       "      <td>147.3</td>\n",
       "      <td>23.9</td>\n",
       "      <td>3.000720</td>\n",
       "    </tr>\n",
       "    <tr>\n",
       "      <th>163</th>\n",
       "      <td>188.4</td>\n",
       "      <td>18.1</td>\n",
       "      <td>3.280911</td>\n",
       "    </tr>\n",
       "    <tr>\n",
       "      <th>56</th>\n",
       "      <td>198.9</td>\n",
       "      <td>49.4</td>\n",
       "      <td>4.110874</td>\n",
       "    </tr>\n",
       "    <tr>\n",
       "      <th>70</th>\n",
       "      <td>216.8</td>\n",
       "      <td>43.9</td>\n",
       "      <td>3.339322</td>\n",
       "    </tr>\n",
       "    <tr>\n",
       "      <th>3</th>\n",
       "      <td>17.2</td>\n",
       "      <td>45.9</td>\n",
       "      <td>4.252772</td>\n",
       "    </tr>\n",
       "    <tr>\n",
       "      <th>99</th>\n",
       "      <td>289.7</td>\n",
       "      <td>42.3</td>\n",
       "      <td>3.955082</td>\n",
       "    </tr>\n",
       "    <tr>\n",
       "      <th>11</th>\n",
       "      <td>66.1</td>\n",
       "      <td>5.8</td>\n",
       "      <td>3.226844</td>\n",
       "    </tr>\n",
       "    <tr>\n",
       "      <th>76</th>\n",
       "      <td>16.9</td>\n",
       "      <td>43.7</td>\n",
       "      <td>4.504244</td>\n",
       "    </tr>\n",
       "    <tr>\n",
       "      <th>143</th>\n",
       "      <td>220.5</td>\n",
       "      <td>33.2</td>\n",
       "      <td>3.660994</td>\n",
       "    </tr>\n",
       "    <tr>\n",
       "      <th>125</th>\n",
       "      <td>229.5</td>\n",
       "      <td>32.3</td>\n",
       "      <td>4.320151</td>\n",
       "    </tr>\n",
       "    <tr>\n",
       "      <th>64</th>\n",
       "      <td>102.7</td>\n",
       "      <td>29.6</td>\n",
       "      <td>2.240710</td>\n",
       "    </tr>\n",
       "    <tr>\n",
       "      <th>110</th>\n",
       "      <td>255.4</td>\n",
       "      <td>26.9</td>\n",
       "      <td>1.871802</td>\n",
       "    </tr>\n",
       "    <tr>\n",
       "      <th>79</th>\n",
       "      <td>5.4</td>\n",
       "      <td>29.9</td>\n",
       "      <td>2.341806</td>\n",
       "    </tr>\n",
       "    <tr>\n",
       "      <th>112</th>\n",
       "      <td>241.7</td>\n",
       "      <td>38.0</td>\n",
       "      <td>3.186353</td>\n",
       "    </tr>\n",
       "    <tr>\n",
       "      <th>186</th>\n",
       "      <td>205.0</td>\n",
       "      <td>45.1</td>\n",
       "      <td>3.025291</td>\n",
       "    </tr>\n",
       "    <tr>\n",
       "      <th>155</th>\n",
       "      <td>187.8</td>\n",
       "      <td>21.1</td>\n",
       "      <td>2.351375</td>\n",
       "    </tr>\n",
       "    <tr>\n",
       "      <th>131</th>\n",
       "      <td>0.7</td>\n",
       "      <td>39.6</td>\n",
       "      <td>2.272126</td>\n",
       "    </tr>\n",
       "    <tr>\n",
       "      <th>62</th>\n",
       "      <td>261.3</td>\n",
       "      <td>42.7</td>\n",
       "      <td>4.019980</td>\n",
       "    </tr>\n",
       "    <tr>\n",
       "      <th>88</th>\n",
       "      <td>110.7</td>\n",
       "      <td>40.6</td>\n",
       "      <td>4.162003</td>\n",
       "    </tr>\n",
       "    <tr>\n",
       "      <th>103</th>\n",
       "      <td>280.2</td>\n",
       "      <td>10.1</td>\n",
       "      <td>3.109061</td>\n",
       "    </tr>\n",
       "    <tr>\n",
       "      <th>122</th>\n",
       "      <td>18.8</td>\n",
       "      <td>21.7</td>\n",
       "      <td>3.939638</td>\n",
       "    </tr>\n",
       "    <tr>\n",
       "      <th>137</th>\n",
       "      <td>25.6</td>\n",
       "      <td>39.0</td>\n",
       "      <td>2.332144</td>\n",
       "    </tr>\n",
       "    <tr>\n",
       "      <th>2</th>\n",
       "      <td>44.5</td>\n",
       "      <td>39.3</td>\n",
       "      <td>3.830813</td>\n",
       "    </tr>\n",
       "    <tr>\n",
       "      <th>48</th>\n",
       "      <td>239.9</td>\n",
       "      <td>41.5</td>\n",
       "      <td>2.970414</td>\n",
       "    </tr>\n",
       "    <tr>\n",
       "      <th>173</th>\n",
       "      <td>19.6</td>\n",
       "      <td>20.1</td>\n",
       "      <td>2.890372</td>\n",
       "    </tr>\n",
       "    <tr>\n",
       "      <th>160</th>\n",
       "      <td>131.7</td>\n",
       "      <td>18.4</td>\n",
       "      <td>3.572346</td>\n",
       "    </tr>\n",
       "    <tr>\n",
       "      <th>40</th>\n",
       "      <td>228.0</td>\n",
       "      <td>37.7</td>\n",
       "      <td>3.496508</td>\n",
       "    </tr>\n",
       "    <tr>\n",
       "      <th>77</th>\n",
       "      <td>27.5</td>\n",
       "      <td>1.6</td>\n",
       "      <td>3.077312</td>\n",
       "    </tr>\n",
       "    <tr>\n",
       "      <th>92</th>\n",
       "      <td>28.6</td>\n",
       "      <td>1.5</td>\n",
       "      <td>3.526361</td>\n",
       "    </tr>\n",
       "    <tr>\n",
       "      <th>36</th>\n",
       "      <td>290.7</td>\n",
       "      <td>4.1</td>\n",
       "      <td>2.251292</td>\n",
       "    </tr>\n",
       "    <tr>\n",
       "      <th>179</th>\n",
       "      <td>276.7</td>\n",
       "      <td>2.3</td>\n",
       "      <td>3.206803</td>\n",
       "    </tr>\n",
       "    <tr>\n",
       "      <th>128</th>\n",
       "      <td>80.2</td>\n",
       "      <td>0.0</td>\n",
       "      <td>2.322388</td>\n",
       "    </tr>\n",
       "    <tr>\n",
       "      <th>170</th>\n",
       "      <td>284.3</td>\n",
       "      <td>10.6</td>\n",
       "      <td>2.001480</td>\n",
       "    </tr>\n",
       "    <tr>\n",
       "      <th>47</th>\n",
       "      <td>89.7</td>\n",
       "      <td>9.9</td>\n",
       "      <td>3.602777</td>\n",
       "    </tr>\n",
       "    <tr>\n",
       "      <th>175</th>\n",
       "      <td>222.4</td>\n",
       "      <td>3.4</td>\n",
       "      <td>2.646175</td>\n",
       "    </tr>\n",
       "  </tbody>\n",
       "</table>\n",
       "</div>"
      ],
      "text/plain": [
       "        TV  radio  newspaper\n",
       "60   210.7   29.5   2.332144\n",
       "6      8.7   48.9   4.330733\n",
       "21   218.4   27.7   3.996364\n",
       "199  283.6   42.0   4.207673\n",
       "53   216.4   41.7   3.703768\n",
       "20   147.3   23.9   3.000720\n",
       "163  188.4   18.1   3.280911\n",
       "56   198.9   49.4   4.110874\n",
       "70   216.8   43.9   3.339322\n",
       "3     17.2   45.9   4.252772\n",
       "99   289.7   42.3   3.955082\n",
       "11    66.1    5.8   3.226844\n",
       "76    16.9   43.7   4.504244\n",
       "143  220.5   33.2   3.660994\n",
       "125  229.5   32.3   4.320151\n",
       "64   102.7   29.6   2.240710\n",
       "110  255.4   26.9   1.871802\n",
       "79     5.4   29.9   2.341806\n",
       "112  241.7   38.0   3.186353\n",
       "186  205.0   45.1   3.025291\n",
       "155  187.8   21.1   2.351375\n",
       "131    0.7   39.6   2.272126\n",
       "62   261.3   42.7   4.019980\n",
       "88   110.7   40.6   4.162003\n",
       "103  280.2   10.1   3.109061\n",
       "122   18.8   21.7   3.939638\n",
       "137   25.6   39.0   2.332144\n",
       "2     44.5   39.3   3.830813\n",
       "48   239.9   41.5   2.970414\n",
       "173   19.6   20.1   2.890372\n",
       "160  131.7   18.4   3.572346\n",
       "40   228.0   37.7   3.496508\n",
       "77    27.5    1.6   3.077312\n",
       "92    28.6    1.5   3.526361\n",
       "36   290.7    4.1   2.251292\n",
       "179  276.7    2.3   3.206803\n",
       "128   80.2    0.0   2.322388\n",
       "170  284.3   10.6   2.001480\n",
       "47    89.7    9.9   3.602777\n",
       "175  222.4    3.4   2.646175"
      ]
     },
     "execution_count": 129,
     "metadata": {},
     "output_type": "execute_result"
    }
   ],
   "source": [
    "X_test"
   ]
  },
  {
   "cell_type": "code",
   "execution_count": 130,
   "id": "6ab3f0f7-ac11-49d0-a003-7c4e1f6564aa",
   "metadata": {},
   "outputs": [
    {
     "data": {
      "text/plain": [
       "array([[ 0.70680807,  0.59229209,  0.46173972],\n",
       "       [ 0.01573726,  0.98580122,  0.90759788],\n",
       "       [ 0.73315087,  0.55578093,  0.83300465],\n",
       "       [ 0.95620937,  0.84584178,  0.88014484],\n",
       "       [ 0.72630859,  0.83975659,  0.76773044],\n",
       "       [ 0.48990763,  0.47870183,  0.61088993],\n",
       "       [ 0.63051659,  0.36105477,  0.67339682],\n",
       "       [ 0.66643859,  0.9959432 ,  0.85855021],\n",
       "       [ 0.72767704,  0.88438134,  0.68642747],\n",
       "       [ 0.04481697,  0.92494929,  0.89020572],\n",
       "       [ 0.97707834,  0.85192698,  0.82379528],\n",
       "       [ 0.21211085,  0.11156187,  0.66133516],\n",
       "       [ 0.04379063,  0.88032454,  0.94630581],\n",
       "       [ 0.74033527,  0.6673428 ,  0.75818818],\n",
       "       [ 0.77112556,  0.64908722,  0.90523715],\n",
       "       [ 0.33732467,  0.59432049,  0.44134199],\n",
       "       [ 0.85973315,  0.53955375,  0.35904374],\n",
       "       [ 0.00444749,  0.60040568,  0.46389516],\n",
       "       [ 0.8128635 ,  0.76470588,  0.65230209],\n",
       "       [ 0.68730756,  0.90872211,  0.61637144],\n",
       "       [ 0.62846391,  0.42190669,  0.46602998],\n",
       "       [-0.01163189,  0.79716024,  0.44835052],\n",
       "       [ 0.87991789,  0.86004057,  0.83827306],\n",
       "       [ 0.36469381,  0.81744422,  0.86995648],\n",
       "       [ 0.94457749,  0.19878296,  0.63505936],\n",
       "       [ 0.0502908 ,  0.43407708,  0.82034986],\n",
       "       [ 0.07355457,  0.78498986,  0.46173972],\n",
       "       [ 0.13821416,  0.79107505,  0.79607243],\n",
       "       [ 0.80670544,  0.8356998 ,  0.60412921],\n",
       "       [ 0.05302771,  0.40162272,  0.58627277],\n",
       "       [ 0.4365378 ,  0.36713996,  0.73841188],\n",
       "       [ 0.76599384,  0.75862069,  0.72149344],\n",
       "       [ 0.08005474,  0.02636917,  0.62797666],\n",
       "       [ 0.083818  ,  0.02434077,  0.72815323],\n",
       "       [ 0.98049949,  0.07707911,  0.44370272],\n",
       "       [ 0.93260349,  0.04056795,  0.65686434],\n",
       "       [ 0.26034896, -0.00608519,  0.45956325],\n",
       "       [ 0.95860417,  0.20892495,  0.3879731 ],\n",
       "       [ 0.29284981,  0.19472617,  0.74520065],\n",
       "       [ 0.74683544,  0.06288032,  0.53179575]])"
      ]
     },
     "execution_count": 130,
     "metadata": {},
     "output_type": "execute_result"
    }
   ],
   "source": [
    "X_test_scale"
   ]
  },
  {
   "cell_type": "code",
   "execution_count": 131,
   "id": "51d2434f-e829-47c8-868d-7c2918075a96",
   "metadata": {},
   "outputs": [
    {
     "name": "stdout",
     "output_type": "stream",
     "text": [
      "[18.15026866 12.96136899 18.05815332 23.66025079 20.68751041 14.26325872\n",
      " 14.92774472 21.38847375 21.14752911 12.75788534 23.99735583  7.20632737\n",
      " 12.30777109 19.22813333 19.41581583 13.44985803 19.62619644  9.24667496\n",
      " 21.1052867  20.87838433 15.52611251 10.91695579 22.82910679 15.82915597\n",
      " 17.40742204  8.17170435 11.88738387 12.69866637 21.71275044  7.94920205\n",
      " 12.49118989 20.43292079  4.71443086  4.72126238 16.7504848  15.74384945\n",
      "  6.74775596 17.73750244  9.01170001 13.60841593]\n"
     ]
    }
   ],
   "source": [
    "y_pred=lm.predict(X_test_scale)\n",
    "print(y_pred)"
   ]
  },
  {
   "cell_type": "markdown",
   "id": "f4e23733-d448-4f88-a13d-357c3e9d0fb7",
   "metadata": {},
   "source": [
    "## Evolution"
   ]
  },
  {
   "cell_type": "code",
   "execution_count": 133,
   "id": "4ccf6026-6e95-4f55-8cf4-43cc9807b9f0",
   "metadata": {},
   "outputs": [
    {
     "data": {
      "text/html": [
       "<div>\n",
       "<style scoped>\n",
       "    .dataframe tbody tr th:only-of-type {\n",
       "        vertical-align: middle;\n",
       "    }\n",
       "\n",
       "    .dataframe tbody tr th {\n",
       "        vertical-align: top;\n",
       "    }\n",
       "\n",
       "    .dataframe thead th {\n",
       "        text-align: right;\n",
       "    }\n",
       "</style>\n",
       "<table border=\"1\" class=\"dataframe\">\n",
       "  <thead>\n",
       "    <tr style=\"text-align: right;\">\n",
       "      <th></th>\n",
       "      <th>TV</th>\n",
       "      <th>radio</th>\n",
       "      <th>newspaper</th>\n",
       "      <th>Actual Sales</th>\n",
       "      <th>Predicted Sales</th>\n",
       "      <th>Error</th>\n",
       "    </tr>\n",
       "  </thead>\n",
       "  <tbody>\n",
       "    <tr>\n",
       "      <th>60</th>\n",
       "      <td>210.7</td>\n",
       "      <td>29.5</td>\n",
       "      <td>2.332144</td>\n",
       "      <td>18.4</td>\n",
       "      <td>18.150269</td>\n",
       "      <td>0.249731</td>\n",
       "    </tr>\n",
       "    <tr>\n",
       "      <th>6</th>\n",
       "      <td>8.7</td>\n",
       "      <td>48.9</td>\n",
       "      <td>4.330733</td>\n",
       "      <td>7.2</td>\n",
       "      <td>12.961369</td>\n",
       "      <td>5.761369</td>\n",
       "    </tr>\n",
       "    <tr>\n",
       "      <th>21</th>\n",
       "      <td>218.4</td>\n",
       "      <td>27.7</td>\n",
       "      <td>3.996364</td>\n",
       "      <td>18.0</td>\n",
       "      <td>18.058153</td>\n",
       "      <td>0.058153</td>\n",
       "    </tr>\n",
       "    <tr>\n",
       "      <th>199</th>\n",
       "      <td>283.6</td>\n",
       "      <td>42.0</td>\n",
       "      <td>4.207673</td>\n",
       "      <td>25.5</td>\n",
       "      <td>23.660251</td>\n",
       "      <td>1.839749</td>\n",
       "    </tr>\n",
       "    <tr>\n",
       "      <th>53</th>\n",
       "      <td>216.4</td>\n",
       "      <td>41.7</td>\n",
       "      <td>3.703768</td>\n",
       "      <td>22.6</td>\n",
       "      <td>20.687510</td>\n",
       "      <td>1.912490</td>\n",
       "    </tr>\n",
       "    <tr>\n",
       "      <th>20</th>\n",
       "      <td>147.3</td>\n",
       "      <td>23.9</td>\n",
       "      <td>3.000720</td>\n",
       "      <td>14.6</td>\n",
       "      <td>14.263259</td>\n",
       "      <td>0.336741</td>\n",
       "    </tr>\n",
       "    <tr>\n",
       "      <th>163</th>\n",
       "      <td>188.4</td>\n",
       "      <td>18.1</td>\n",
       "      <td>3.280911</td>\n",
       "      <td>14.9</td>\n",
       "      <td>14.927745</td>\n",
       "      <td>0.027745</td>\n",
       "    </tr>\n",
       "    <tr>\n",
       "      <th>56</th>\n",
       "      <td>198.9</td>\n",
       "      <td>49.4</td>\n",
       "      <td>4.110874</td>\n",
       "      <td>23.7</td>\n",
       "      <td>21.388474</td>\n",
       "      <td>2.311526</td>\n",
       "    </tr>\n",
       "    <tr>\n",
       "      <th>70</th>\n",
       "      <td>216.8</td>\n",
       "      <td>43.9</td>\n",
       "      <td>3.339322</td>\n",
       "      <td>22.3</td>\n",
       "      <td>21.147529</td>\n",
       "      <td>1.152471</td>\n",
       "    </tr>\n",
       "    <tr>\n",
       "      <th>3</th>\n",
       "      <td>17.2</td>\n",
       "      <td>45.9</td>\n",
       "      <td>4.252772</td>\n",
       "      <td>9.3</td>\n",
       "      <td>12.757885</td>\n",
       "      <td>3.457885</td>\n",
       "    </tr>\n",
       "    <tr>\n",
       "      <th>99</th>\n",
       "      <td>289.7</td>\n",
       "      <td>42.3</td>\n",
       "      <td>3.955082</td>\n",
       "      <td>25.4</td>\n",
       "      <td>23.997356</td>\n",
       "      <td>1.402644</td>\n",
       "    </tr>\n",
       "    <tr>\n",
       "      <th>11</th>\n",
       "      <td>66.1</td>\n",
       "      <td>5.8</td>\n",
       "      <td>3.226844</td>\n",
       "      <td>8.6</td>\n",
       "      <td>7.206327</td>\n",
       "      <td>1.393673</td>\n",
       "    </tr>\n",
       "    <tr>\n",
       "      <th>76</th>\n",
       "      <td>16.9</td>\n",
       "      <td>43.7</td>\n",
       "      <td>4.504244</td>\n",
       "      <td>8.7</td>\n",
       "      <td>12.307771</td>\n",
       "      <td>3.607771</td>\n",
       "    </tr>\n",
       "    <tr>\n",
       "      <th>143</th>\n",
       "      <td>220.5</td>\n",
       "      <td>33.2</td>\n",
       "      <td>3.660994</td>\n",
       "      <td>20.1</td>\n",
       "      <td>19.228133</td>\n",
       "      <td>0.871867</td>\n",
       "    </tr>\n",
       "    <tr>\n",
       "      <th>125</th>\n",
       "      <td>229.5</td>\n",
       "      <td>32.3</td>\n",
       "      <td>4.320151</td>\n",
       "      <td>19.7</td>\n",
       "      <td>19.415816</td>\n",
       "      <td>0.284184</td>\n",
       "    </tr>\n",
       "    <tr>\n",
       "      <th>64</th>\n",
       "      <td>102.7</td>\n",
       "      <td>29.6</td>\n",
       "      <td>2.240710</td>\n",
       "      <td>14.0</td>\n",
       "      <td>13.449858</td>\n",
       "      <td>0.550142</td>\n",
       "    </tr>\n",
       "    <tr>\n",
       "      <th>110</th>\n",
       "      <td>255.4</td>\n",
       "      <td>26.9</td>\n",
       "      <td>1.871802</td>\n",
       "      <td>19.8</td>\n",
       "      <td>19.626196</td>\n",
       "      <td>0.173804</td>\n",
       "    </tr>\n",
       "    <tr>\n",
       "      <th>79</th>\n",
       "      <td>5.4</td>\n",
       "      <td>29.9</td>\n",
       "      <td>2.341806</td>\n",
       "      <td>5.3</td>\n",
       "      <td>9.246675</td>\n",
       "      <td>3.946675</td>\n",
       "    </tr>\n",
       "    <tr>\n",
       "      <th>112</th>\n",
       "      <td>241.7</td>\n",
       "      <td>38.0</td>\n",
       "      <td>3.186353</td>\n",
       "      <td>21.8</td>\n",
       "      <td>21.105287</td>\n",
       "      <td>0.694713</td>\n",
       "    </tr>\n",
       "    <tr>\n",
       "      <th>186</th>\n",
       "      <td>205.0</td>\n",
       "      <td>45.1</td>\n",
       "      <td>3.025291</td>\n",
       "      <td>22.6</td>\n",
       "      <td>20.878384</td>\n",
       "      <td>1.721616</td>\n",
       "    </tr>\n",
       "    <tr>\n",
       "      <th>155</th>\n",
       "      <td>187.8</td>\n",
       "      <td>21.1</td>\n",
       "      <td>2.351375</td>\n",
       "      <td>15.6</td>\n",
       "      <td>15.526113</td>\n",
       "      <td>0.073887</td>\n",
       "    </tr>\n",
       "    <tr>\n",
       "      <th>131</th>\n",
       "      <td>0.7</td>\n",
       "      <td>39.6</td>\n",
       "      <td>2.272126</td>\n",
       "      <td>1.6</td>\n",
       "      <td>10.916956</td>\n",
       "      <td>9.316956</td>\n",
       "    </tr>\n",
       "    <tr>\n",
       "      <th>62</th>\n",
       "      <td>261.3</td>\n",
       "      <td>42.7</td>\n",
       "      <td>4.019980</td>\n",
       "      <td>24.2</td>\n",
       "      <td>22.829107</td>\n",
       "      <td>1.370893</td>\n",
       "    </tr>\n",
       "    <tr>\n",
       "      <th>88</th>\n",
       "      <td>110.7</td>\n",
       "      <td>40.6</td>\n",
       "      <td>4.162003</td>\n",
       "      <td>16.0</td>\n",
       "      <td>15.829156</td>\n",
       "      <td>0.170844</td>\n",
       "    </tr>\n",
       "    <tr>\n",
       "      <th>103</th>\n",
       "      <td>280.2</td>\n",
       "      <td>10.1</td>\n",
       "      <td>3.109061</td>\n",
       "      <td>14.8</td>\n",
       "      <td>17.407422</td>\n",
       "      <td>2.607422</td>\n",
       "    </tr>\n",
       "    <tr>\n",
       "      <th>122</th>\n",
       "      <td>18.8</td>\n",
       "      <td>21.7</td>\n",
       "      <td>3.939638</td>\n",
       "      <td>7.0</td>\n",
       "      <td>8.171704</td>\n",
       "      <td>1.171704</td>\n",
       "    </tr>\n",
       "    <tr>\n",
       "      <th>137</th>\n",
       "      <td>25.6</td>\n",
       "      <td>39.0</td>\n",
       "      <td>2.332144</td>\n",
       "      <td>9.5</td>\n",
       "      <td>11.887384</td>\n",
       "      <td>2.387384</td>\n",
       "    </tr>\n",
       "    <tr>\n",
       "      <th>2</th>\n",
       "      <td>44.5</td>\n",
       "      <td>39.3</td>\n",
       "      <td>3.830813</td>\n",
       "      <td>10.4</td>\n",
       "      <td>12.698666</td>\n",
       "      <td>2.298666</td>\n",
       "    </tr>\n",
       "    <tr>\n",
       "      <th>48</th>\n",
       "      <td>239.9</td>\n",
       "      <td>41.5</td>\n",
       "      <td>2.970414</td>\n",
       "      <td>23.2</td>\n",
       "      <td>21.712750</td>\n",
       "      <td>1.487250</td>\n",
       "    </tr>\n",
       "    <tr>\n",
       "      <th>173</th>\n",
       "      <td>19.6</td>\n",
       "      <td>20.1</td>\n",
       "      <td>2.890372</td>\n",
       "      <td>7.6</td>\n",
       "      <td>7.949202</td>\n",
       "      <td>0.349202</td>\n",
       "    </tr>\n",
       "    <tr>\n",
       "      <th>160</th>\n",
       "      <td>131.7</td>\n",
       "      <td>18.4</td>\n",
       "      <td>3.572346</td>\n",
       "      <td>12.9</td>\n",
       "      <td>12.491190</td>\n",
       "      <td>0.408810</td>\n",
       "    </tr>\n",
       "    <tr>\n",
       "      <th>40</th>\n",
       "      <td>228.0</td>\n",
       "      <td>37.7</td>\n",
       "      <td>3.496508</td>\n",
       "      <td>21.5</td>\n",
       "      <td>20.432921</td>\n",
       "      <td>1.067079</td>\n",
       "    </tr>\n",
       "    <tr>\n",
       "      <th>77</th>\n",
       "      <td>27.5</td>\n",
       "      <td>1.6</td>\n",
       "      <td>3.077312</td>\n",
       "      <td>6.9</td>\n",
       "      <td>4.714431</td>\n",
       "      <td>2.185569</td>\n",
       "    </tr>\n",
       "    <tr>\n",
       "      <th>92</th>\n",
       "      <td>28.6</td>\n",
       "      <td>1.5</td>\n",
       "      <td>3.526361</td>\n",
       "      <td>7.3</td>\n",
       "      <td>4.721262</td>\n",
       "      <td>2.578738</td>\n",
       "    </tr>\n",
       "    <tr>\n",
       "      <th>36</th>\n",
       "      <td>290.7</td>\n",
       "      <td>4.1</td>\n",
       "      <td>2.251292</td>\n",
       "      <td>12.8</td>\n",
       "      <td>16.750485</td>\n",
       "      <td>3.950485</td>\n",
       "    </tr>\n",
       "    <tr>\n",
       "      <th>179</th>\n",
       "      <td>276.7</td>\n",
       "      <td>2.3</td>\n",
       "      <td>3.206803</td>\n",
       "      <td>11.8</td>\n",
       "      <td>15.743849</td>\n",
       "      <td>3.943849</td>\n",
       "    </tr>\n",
       "    <tr>\n",
       "      <th>128</th>\n",
       "      <td>80.2</td>\n",
       "      <td>0.0</td>\n",
       "      <td>2.322388</td>\n",
       "      <td>8.8</td>\n",
       "      <td>6.747756</td>\n",
       "      <td>2.052244</td>\n",
       "    </tr>\n",
       "    <tr>\n",
       "      <th>170</th>\n",
       "      <td>284.3</td>\n",
       "      <td>10.6</td>\n",
       "      <td>2.001480</td>\n",
       "      <td>15.0</td>\n",
       "      <td>17.737502</td>\n",
       "      <td>2.737502</td>\n",
       "    </tr>\n",
       "    <tr>\n",
       "      <th>47</th>\n",
       "      <td>89.7</td>\n",
       "      <td>9.9</td>\n",
       "      <td>3.602777</td>\n",
       "      <td>10.6</td>\n",
       "      <td>9.011700</td>\n",
       "      <td>1.588300</td>\n",
       "    </tr>\n",
       "    <tr>\n",
       "      <th>175</th>\n",
       "      <td>222.4</td>\n",
       "      <td>3.4</td>\n",
       "      <td>2.646175</td>\n",
       "      <td>11.5</td>\n",
       "      <td>13.608416</td>\n",
       "      <td>2.108416</td>\n",
       "    </tr>\n",
       "  </tbody>\n",
       "</table>\n",
       "</div>"
      ],
      "text/plain": [
       "        TV  radio  newspaper  Actual Sales  Predicted Sales     Error\n",
       "60   210.7   29.5   2.332144          18.4        18.150269  0.249731\n",
       "6      8.7   48.9   4.330733           7.2        12.961369  5.761369\n",
       "21   218.4   27.7   3.996364          18.0        18.058153  0.058153\n",
       "199  283.6   42.0   4.207673          25.5        23.660251  1.839749\n",
       "53   216.4   41.7   3.703768          22.6        20.687510  1.912490\n",
       "20   147.3   23.9   3.000720          14.6        14.263259  0.336741\n",
       "163  188.4   18.1   3.280911          14.9        14.927745  0.027745\n",
       "56   198.9   49.4   4.110874          23.7        21.388474  2.311526\n",
       "70   216.8   43.9   3.339322          22.3        21.147529  1.152471\n",
       "3     17.2   45.9   4.252772           9.3        12.757885  3.457885\n",
       "99   289.7   42.3   3.955082          25.4        23.997356  1.402644\n",
       "11    66.1    5.8   3.226844           8.6         7.206327  1.393673\n",
       "76    16.9   43.7   4.504244           8.7        12.307771  3.607771\n",
       "143  220.5   33.2   3.660994          20.1        19.228133  0.871867\n",
       "125  229.5   32.3   4.320151          19.7        19.415816  0.284184\n",
       "64   102.7   29.6   2.240710          14.0        13.449858  0.550142\n",
       "110  255.4   26.9   1.871802          19.8        19.626196  0.173804\n",
       "79     5.4   29.9   2.341806           5.3         9.246675  3.946675\n",
       "112  241.7   38.0   3.186353          21.8        21.105287  0.694713\n",
       "186  205.0   45.1   3.025291          22.6        20.878384  1.721616\n",
       "155  187.8   21.1   2.351375          15.6        15.526113  0.073887\n",
       "131    0.7   39.6   2.272126           1.6        10.916956  9.316956\n",
       "62   261.3   42.7   4.019980          24.2        22.829107  1.370893\n",
       "88   110.7   40.6   4.162003          16.0        15.829156  0.170844\n",
       "103  280.2   10.1   3.109061          14.8        17.407422  2.607422\n",
       "122   18.8   21.7   3.939638           7.0         8.171704  1.171704\n",
       "137   25.6   39.0   2.332144           9.5        11.887384  2.387384\n",
       "2     44.5   39.3   3.830813          10.4        12.698666  2.298666\n",
       "48   239.9   41.5   2.970414          23.2        21.712750  1.487250\n",
       "173   19.6   20.1   2.890372           7.6         7.949202  0.349202\n",
       "160  131.7   18.4   3.572346          12.9        12.491190  0.408810\n",
       "40   228.0   37.7   3.496508          21.5        20.432921  1.067079\n",
       "77    27.5    1.6   3.077312           6.9         4.714431  2.185569\n",
       "92    28.6    1.5   3.526361           7.3         4.721262  2.578738\n",
       "36   290.7    4.1   2.251292          12.8        16.750485  3.950485\n",
       "179  276.7    2.3   3.206803          11.8        15.743849  3.943849\n",
       "128   80.2    0.0   2.322388           8.8         6.747756  2.052244\n",
       "170  284.3   10.6   2.001480          15.0        17.737502  2.737502\n",
       "47    89.7    9.9   3.602777          10.6         9.011700  1.588300\n",
       "175  222.4    3.4   2.646175          11.5        13.608416  2.108416"
      ]
     },
     "execution_count": 133,
     "metadata": {},
     "output_type": "execute_result"
    }
   ],
   "source": [
    "new_df = pd.DataFrame()\n",
    "new_df= X_test\n",
    "\n",
    "new_df[\"Actual Sales\"] =y_test\n",
    "new_df[\"Predicted Sales\"] =y_pred\n",
    "new_df[\"Error\"] = abs(new_df[\"Actual Sales\"] - new_df[\"Predicted Sales\"])\n",
    "new_df"
   ]
  },
  {
   "cell_type": "code",
   "execution_count": 134,
   "id": "1520ff5d-79e7-45a4-b12f-533abdd881a8",
   "metadata": {},
   "outputs": [
    {
     "name": "stdout",
     "output_type": "stream",
     "text": [
      "R Square : 0.8348010719035319\n",
      "Adjusted R square : 0.8322725168816472\n",
      "RMSE : 2.5929769110930603\n"
     ]
    }
   ],
   "source": [
    "from sklearn.metrics import  r2_score, mean_squared_error\n",
    "import numpy as np\n",
    "\n",
    "r2 = r2_score(y_test ,y_pred)\n",
    "print(\"R Square :\" , r2)\n",
    "\n",
    "adjusted_r_squared =1-(1-r2)*(len(y)-1)/(len(y)-X.shape[1]-1)\n",
    "print(\"Adjusted R square :\" , adjusted_r_squared)\n",
    "\n",
    "rmse = np.sqrt(mean_squared_error(y_test,y_pred))\n",
    "print(\"RMSE :\" ,rmse)\n"
   ]
  },
  {
   "cell_type": "raw",
   "id": "7481ab08-5d7d-4c04-9ac5-b90db86f7ce4",
   "metadata": {},
   "source": [
    "Rsquare tells you how much variability you can explaoin in the data "
   ]
  },
  {
   "cell_type": "markdown",
   "id": "a15b460d-5407-405b-9e99-be400aee9cf8",
   "metadata": {},
   "source": [
    "## Ridge Regression"
   ]
  },
  {
   "cell_type": "code",
   "execution_count": 136,
   "id": "c503e3c7-9439-4fe0-aba8-86d1a6448fd4",
   "metadata": {},
   "outputs": [],
   "source": [
    "# from sklearn.model_selection import train_test_split\n",
    "\n",
    "#split the data into test and train\n",
    "#X_train, X_test, y_train,y_test =train_test_split(X,\n",
    " #                                                y,\n",
    "  #                                               test_size=0.2,\n",
    "   #                                              random_state= 10)"
   ]
  },
  {
   "cell_type": "code",
   "execution_count": 137,
   "id": "75f2dfee-2fd7-4037-b2f9-42d72f9a1f4f",
   "metadata": {},
   "outputs": [],
   "source": [
    "from sklearn.linear_model import Ridge"
   ]
  },
  {
   "cell_type": "code",
   "execution_count": 138,
   "id": "b2f8dd36-baec-4db2-8379-ab21b85eb34c",
   "metadata": {},
   "outputs": [
    {
     "name": "stdout",
     "output_type": "stream",
     "text": [
      "4.139703899924253\n",
      "[11.86195582  8.88944348  0.03457977]\n"
     ]
    }
   ],
   "source": [
    "lm_ridge= Ridge(alpha=1.0)\n",
    "lm_ridge.fit(X_train_scale,y_train)\n",
    "\n",
    "#print intercept and coefficient for Ridge regression\n",
    "print(lm_ridge.intercept_)\n",
    "print(lm_ridge.coef_)"
   ]
  },
  {
   "cell_type": "code",
   "execution_count": 139,
   "id": "f60a9e90-8358-4c98-9a9c-1447046d0cdf",
   "metadata": {},
   "outputs": [
    {
     "name": "stdout",
     "output_type": "stream",
     "text": [
      "[('TV', 11.861955822955139), ('radio', 8.889443483025728), ('newspaper', 0.03457976558440893)]\n"
     ]
    }
   ],
   "source": [
    "# Linear Regression coefficients\n",
    "print(list(zip(feature_cols, lm_ridge.coef_)))"
   ]
  },
  {
   "cell_type": "code",
   "execution_count": 140,
   "id": "6e4bc68e-4f78-411f-9d85-3021cdaaa793",
   "metadata": {},
   "outputs": [
    {
     "name": "stdout",
     "output_type": "stream",
     "text": [
      "R Square : 0.823681823482152\n",
      "Adjusted R square : 0.8209830758823891\n",
      "RMSE : 2.6788202916614625\n"
     ]
    }
   ],
   "source": [
    "# prediction using Ridge Regression\n",
    "Y_pred_ridge = lm_ridge.predict(X_test_scale)\n",
    "\n",
    "\n",
    "r2 = r2_score(y_test ,Y_pred_ridge)\n",
    "print(\"R Square :\" , r2)\n",
    "\n",
    "adjusted_r_squared =1-(1-r2)*(len(y)-1)/(len(y)-X.shape[1]-1)\n",
    "print(\"Adjusted R square :\" , adjusted_r_squared)\n",
    "\n",
    "rmse = np.sqrt(mean_squared_error(y_test,Y_pred_ridge))\n",
    "print(\"RMSE :\" ,rmse)\n"
   ]
  },
  {
   "cell_type": "markdown",
   "id": "a3fd50a7-48c2-4afb-8aff-1d1128452769",
   "metadata": {},
   "source": [
    "## Lasso Regression"
   ]
  },
  {
   "cell_type": "code",
   "execution_count": 142,
   "id": "b5e56d9b-64ec-4864-99dc-d71a65b94b14",
   "metadata": {},
   "outputs": [],
   "source": [
    "from sklearn.linear_model import Lasso"
   ]
  },
  {
   "cell_type": "code",
   "execution_count": 143,
   "id": "64d9d090-9d69-4433-83be-8440cbffd273",
   "metadata": {},
   "outputs": [
    {
     "name": "stdout",
     "output_type": "stream",
     "text": [
      "13.581863904934774\n",
      "[0.51689124 0.         0.        ]\n"
     ]
    }
   ],
   "source": [
    "lm_lasso= Lasso(alpha=1.0)\n",
    "lm_lasso.fit(X_train_scale,y_train)\n",
    "\n",
    "#print intercept and coefficient for Ridge regression\n",
    "print(lm_lasso.intercept_)\n",
    "print(lm_lasso.coef_)"
   ]
  },
  {
   "cell_type": "code",
   "execution_count": 144,
   "id": "8c84847c-1ae5-4efb-a39a-fbbc9535da68",
   "metadata": {},
   "outputs": [
    {
     "name": "stdout",
     "output_type": "stream",
     "text": [
      "Linear Reg:  [('TV', 12.785933211080344), ('radio', 9.516727993391221), ('newspaper', -0.21942783008785405)]\n",
      "Ridge Reg :  [('TV', 11.861955822955139), ('radio', 8.889443483025728), ('newspaper', 0.03457976558440893)]\n",
      "Lasso Reg :  [('TV', 0.5168912350044306), ('radio', 0.0), ('newspaper', 0.0)]\n"
     ]
    }
   ],
   "source": [
    "# ridge regression coefficients\n",
    "print(\"Linear Reg: \", list(zip(feature_cols,lm.coef_)))\n",
    "print(\"Ridge Reg : \", list(zip(feature_cols,lm_ridge.coef_)))\n",
    "print(\"Lasso Reg : \", list(zip(feature_cols,lm_lasso.coef_)))"
   ]
  },
  {
   "cell_type": "code",
   "execution_count": 145,
   "id": "d36d56c1-c0f2-490a-8220-24cc01931290",
   "metadata": {},
   "outputs": [
    {
     "ename": "NameError",
     "evalue": "name 'lm_Lasso' is not defined",
     "output_type": "error",
     "traceback": [
      "\u001b[1;31m---------------------------------------------------------------------------\u001b[0m",
      "\u001b[1;31mNameError\u001b[0m                                 Traceback (most recent call last)",
      "Cell \u001b[1;32mIn[145], line 2\u001b[0m\n\u001b[0;32m      1\u001b[0m \u001b[38;5;66;03m# prediction using Lasso Regression\u001b[39;00m\n\u001b[1;32m----> 2\u001b[0m Y_pred_Lasso \u001b[38;5;241m=\u001b[39mlm_Lasso\u001b[38;5;241m.\u001b[39mpredict(X_test_scale)\n\u001b[0;32m      3\u001b[0m r2\u001b[38;5;241m=\u001b[39mr2_score(y_test,Y_pred_Lasso)\n\u001b[0;32m      4\u001b[0m \u001b[38;5;28mprint\u001b[39m(\u001b[38;5;124m\"\u001b[39m\u001b[38;5;124mR Square (Lasso): \u001b[39m\u001b[38;5;124m\"\u001b[39m, r2)\n",
      "\u001b[1;31mNameError\u001b[0m: name 'lm_Lasso' is not defined"
     ]
    }
   ],
   "source": [
    "# prediction using Lasso Regression\n",
    "Y_pred_Lasso =lm_Lasso.predict(X_test_scale)\n",
    "r2=r2_score(y_test,Y_pred_Lasso)\n",
    "print(\"R Square (Lasso): \", r2)\n",
    "\n",
    "adjusted_r_squared = 1 - (1-r2)*(len(y)-1)/(len(y)-X.shape[1]-1)\n",
    "print(\"Adjusted R Square (Lasso): \", adjusted_r_squared)\n",
    "\n",
    "rmse=np.sqrt(mean_squared_error(y_test,Y_pred_Lasso))\n",
    "print(\"RMSE (Lasso): \", rmse)\n"
   ]
  },
  {
   "cell_type": "markdown",
   "id": "d205cf88-ba1d-46c2-af9d-4fdda147a5ac",
   "metadata": {},
   "source": [
    "## OLS Regression"
   ]
  },
  {
   "cell_type": "code",
   "execution_count": null,
   "id": "8cd386be-c622-4859-9284-82789fe314e0",
   "metadata": {},
   "outputs": [],
   "source": [
    "new_df = pd.DataFrame()\n",
    "new_df = X_train\n",
    "\n",
    "new_df[\"sales\"] = Y_train\n",
    "new_df.shape"
   ]
  },
  {
   "cell_type": "code",
   "execution_count": null,
   "id": "3d16d5b1-192c-47fa-b973-f123ef9b1ea8",
   "metadata": {},
   "outputs": [],
   "source": [
    "import statsmodels.formula.api as sm\n",
    "\n",
    "# create a fitted model with all three features\n",
    "lm_model = sm.ols(formula='sales ~ TV + radio + newspaper', data=new_df).fit()\n",
    "\n",
    "# print the coefficients\n",
    "print(lm_model.params)\n",
    "print(lm_model.summary())\n"
   ]
  },
  {
   "cell_type": "markdown",
   "id": "eb001484-9c1d-4870-84bb-83623477626f",
   "metadata": {},
   "source": [
    "### Assumption 5: There shoud be No autocorelation in the data (check using Durbin-watsaon )\n",
    "\n",
    "\n",
    "\n",
    "correlation is the relation betweeen the varilabes autocorelation is the realtion is between the observation, so whenever you have such kind of data where your observation are interdependent on each other, then linear regression algorithym is not suitable. for eg. Time Series data like stock prediction\n",
    "\n",
    "- output range -> 0 to 4\n",
    "- close to 2, no autocorrelation\n",
    "- close to 4, -ve autocorrelation\n",
    "- close to 0, +ve autocorrelation \n",
    "\n",
    "#### Note: If autocorrelation is Present then Perfom Time Series or Other Algorithms\n"
   ]
  },
  {
   "cell_type": "code",
   "execution_count": null,
   "id": "69dce318-fcc1-46d5-abd7-384aa1abe9f3",
   "metadata": {},
   "outputs": [],
   "source": [
    "Y_pred_new=lm_model.predict(X_test)\n",
    "\n",
    "from sklearn.metrics import r2_score,mean_squared_error\n",
    "import numpy as np\n",
    "\n",
    "r2score=r2_score(Y_test,Y_pred)\n",
    "print(r2score)\n",
    "\n",
    "rmse=np.sqrt(mean_squared_error(Y_test,Y_pred_new))\n",
    "print(rmse)\n",
    "\n",
    "adjusted_r_squared_ols = 1 - (1-r2score)*(len(Y)-1)/(len(Y)-X.shape[1]-1)\n",
    "print(adjusted_r_squared_ols)"
   ]
  },
  {
   "cell_type": "markdown",
   "id": "d94fcd1d-87a9-4f40-a906-ce37b522c14a",
   "metadata": {},
   "source": [
    "# Eliminating Newspaper"
   ]
  },
  {
   "cell_type": "code",
   "execution_count": null,
   "id": "51b8e3b5-cdc0-49cc-899b-7952c6005109",
   "metadata": {},
   "outputs": [],
   "source": [
    "import statsmodels.formula.api as sm\n",
    "\n",
    "# create a fitted model with all three features\n",
    "lm_model = sm.ols(formula='sales ~ TV + radio', data=new_df).fit()\n",
    "\n",
    "# print the coefficients\n",
    "print(lm_model.params)\n",
    "print(lm_model.summary())\n"
   ]
  },
  {
   "cell_type": "code",
   "execution_count": null,
   "id": "d723fdac-ddff-4e4f-802b-04eb490cf8b8",
   "metadata": {},
   "outputs": [],
   "source": [
    "Y_pred_new=lm_model.predict(X_test)\n",
    "\n",
    "from sklearn.metrics import r2_score,mean_squared_error\n",
    "import numpy as np\n",
    "\n",
    "r2score=r2_score(Y_test,Y_pred)\n",
    "print(r2score)\n",
    "\n",
    "rmse=np.sqrt(mean_squared_error(Y_test,Y_pred_new))\n",
    "print(rmse)\n",
    "\n",
    "adjusted_r_squared_ols = 1 - (1-r2score)*(len(Y)-1)/(len(Y)-X.shape[1]-1)\n",
    "print(adjusted_r_squared_ols)"
   ]
  },
  {
   "cell_type": "markdown",
   "id": "ae91204a-a748-4d80-ba6b-8874fae8352a",
   "metadata": {},
   "source": [
    "### Assumption 6:  Error shoud be Random (check using Residual vs Fitted)"
   ]
  },
  {
   "cell_type": "code",
   "execution_count": null,
   "id": "21e2a173-03c3-4dae-b999-e8f1ca8040ed",
   "metadata": {},
   "outputs": [],
   "source": [
    "import matplotlib.pyplot as plt\n",
    "plot_lm_1 = plt.figure(1)\n",
    "plot_lm_1.set_figheight(8)\n",
    "plot_lm_1.set_figwidth(12)\n",
    "\n",
    "# fitted values (need a constatnt term for intercept)\n",
    "model_fitted_y = lm_model.fittedvalues\n",
    "\n",
    "\n",
    "plot_lm_1.axes[0] =sns.residplot(model_fitted_y, \"sales\", data=new_df, lowess=True)\n",
    "\n",
    "\n",
    "plot_lm_1.axes[0].set_title(\"Residuals Vs Fitted\")\n",
    "plot_lm_1.axes[0].set_xlabel(\"Fitted Values\")\n",
    "plot_lm_1.axes[0].set_ylabel(\"Residuals\")\n",
    "\n",
    "plt.show()"
   ]
  },
  {
   "cell_type": "code",
   "execution_count": null,
   "id": "12e850a4-a5bd-4380-a9e7-51e5c5470c6e",
   "metadata": {},
   "outputs": [],
   "source": [
    "### Note: This plot does not contain any wave like pattern or repeating striaght pattern of line, this line and our line is random so error is random\n",
    "\n",
    "\n",
    "# A   P   E\n",
    "# 10 12   2\n",
    "# 11 13   2\n",
    "# 14 16   2 "
   ]
  },
  {
   "cell_type": "markdown",
   "id": "e156641e-d758-48b6-9ab9-620ce23443ed",
   "metadata": {},
   "source": [
    "### Assumption 7: Error should follow a normal distribution (check using normal quantile quantile plot)"
   ]
  },
  {
   "cell_type": "code",
   "execution_count": null,
   "id": "9af8592c-e545-4e58-943e-b42773008161",
   "metadata": {},
   "outputs": [],
   "source": [
    "res = lm_model.resid\n",
    "import statsmodels.api as stm\n",
    "import scipy.stats as stats\n",
    "\n",
    "fig = stm.qqplot(res, fit=True, line=\"45\")\n",
    "plt.title(\"Normal Q-Q\")\n",
    "plt.xlabel(\"Theoritical Quantiles\")\n",
    "plt.ylabel('Standardized Residuals')\n",
    "plt.show()"
   ]
  },
  {
   "cell_type": "markdown",
   "id": "1128b981-3749-48c0-bfbc-7e50843db47d",
   "metadata": {},
   "source": [
    "### Note: if most of the data point is falling on the red line then its good case and error is normal distributed"
   ]
  },
  {
   "cell_type": "markdown",
   "id": "f0b6de45-97ce-47dc-980a-1757513f90d7",
   "metadata": {},
   "source": [
    "### Assumption 8: Error should follow constatnt variance (homescadascity) and if error is not following constant varaince then its (hetroscadascity) (check using scale location plot"
   ]
  },
  {
   "cell_type": "code",
   "execution_count": null,
   "id": "f8f249b3-27a6-4f32-9878-26ae0efba4f6",
   "metadata": {},
   "outputs": [],
   "source": []
  }
 ],
 "metadata": {
  "kernelspec": {
   "display_name": "Python 3 (ipykernel)",
   "language": "python",
   "name": "python3"
  },
  "language_info": {
   "codemirror_mode": {
    "name": "ipython",
    "version": 3
   },
   "file_extension": ".py",
   "mimetype": "text/x-python",
   "name": "python",
   "nbconvert_exporter": "python",
   "pygments_lexer": "ipython3",
   "version": "3.12.4"
  }
 },
 "nbformat": 4,
 "nbformat_minor": 5
}
